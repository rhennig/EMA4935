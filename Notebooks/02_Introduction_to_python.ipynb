{
 "cells": [
  {
   "cell_type": "markdown",
   "id": "8c59c6d2-5dd5-477a-b80c-e61964961a3e",
   "metadata": {},
   "source": [
    "# Purpose\n",
    "\n",
    "This notebook provides a quick overview of Python's syntax and some common usage. Here we discuss briefly the types of variables and focus on operations with arrays using [NumPy](https://numpy.org/)."
   ]
  },
  {
   "cell_type": "markdown",
   "id": "e6864f55-c9a1-455d-ba21-61a26e1d3c2f",
   "metadata": {
    "tags": []
   },
   "source": [
    "# 1. Variables: Types and operations\n",
    "\n",
    "We can divide variables into `integer`, `float`, `boolean`, `complex`, and `string`. All variables are case sensitive, **must start with a letter or an underscore** and **cannot start with a number**, nor contain characters other than alpha-numeric and underscore. The type of variable is automatically determined during runtime with the assignment operator `=`."
   ]
  },
  {
   "cell_type": "code",
   "execution_count": 1,
   "id": "33c52194-7ac4-4c97-8570-b1d52288a31c",
   "metadata": {
    "tags": []
   },
   "outputs": [],
   "source": [
    "a = 1          # Integer\n",
    "\n",
    "b = 2.0        # Float\n",
    "\n",
    "c = True       # Boolean\n",
    "\n",
    "d = 1 + 2j     # Integer Complex\n",
    "\n",
    "e = 1.0 + 2.0j # Float Complex\n",
    "\n",
    "f = \"python\"   # String"
   ]
  },
  {
   "cell_type": "markdown",
   "id": "ca1c2799-47f0-4023-8eef-d64557fdc40a",
   "metadata": {},
   "source": [
    "After assigning some value to a variable, or set of variables, we can do operations with it. Note that we can assign values in a single line."
   ]
  },
  {
   "cell_type": "code",
   "execution_count": 2,
   "id": "0ccf90bd-6069-4076-86df-77d89b4a7458",
   "metadata": {
    "tags": []
   },
   "outputs": [],
   "source": [
    "a, b      = 1, 3  # a = 1, b = 3\n",
    "\n",
    "a_plus_b  = a + b\n",
    "b_minus_a = b - a\n",
    "a_times_b = a * b"
   ]
  },
  {
   "cell_type": "markdown",
   "id": "cb485a02-63e7-4b38-b6fc-135e7596ecfa",
   "metadata": {},
   "source": [
    "We can print the values for *a_plus_b*, *b_minus_a*, and *a_times_b* without and with formatting"
   ]
  },
  {
   "cell_type": "code",
   "execution_count": 3,
   "id": "c7217847-6919-49b8-9a00-1cdfd245d3e6",
   "metadata": {
    "tags": []
   },
   "outputs": [
    {
     "name": "stdout",
     "output_type": "stream",
     "text": [
      "a + b = 4\n",
      "b - a = 2\n",
      "a * b = 3\n",
      "a + b = 4, b - a = 2, a * b = 3\n"
     ]
    }
   ],
   "source": [
    "# Without format\n",
    "print(\"a + b =\", a_plus_b)\n",
    "print(\"b - a =\", b_minus_a)\n",
    "print(\"a * b =\", a_times_b)\n",
    "\n",
    "# With format\n",
    "print(f\"a + b = {a_plus_b}, b - a = {b_minus_a}, a * b = {a_times_b}\")"
   ]
  },
  {
   "cell_type": "markdown",
   "id": "01f6ed55-950c-47cc-9778-37d414feab11",
   "metadata": {},
   "source": [
    "> ## Assignment\n",
    ">\n",
    "> How can we specify float and integer division for a ÷ b, if a = 7 and b = 2?\n",
    "\n",
    "~~~\n",
    "a, b = 7, 2\n",
    "\n",
    "print(f\"float division = {}, integer division = {}\")\n",
    "~~~"
   ]
  },
  {
   "cell_type": "code",
   "execution_count": 4,
   "id": "b9d2b410",
   "metadata": {},
   "outputs": [
    {
     "name": "stdout",
     "output_type": "stream",
     "text": [
      "float division 3.5, integer division 3\n"
     ]
    }
   ],
   "source": [
    "# Answer\n",
    "a, b = 7, 2\n",
    "print(f\"float division {a/b}, integer division {a//b}\")"
   ]
  },
  {
   "cell_type": "markdown",
   "id": "b861d512-4ac7-470b-8c15-7e606ae9bf2c",
   "metadata": {
    "tags": []
   },
   "source": [
    "# 2. Lists and Arrays\n",
    "\n",
    "In general, we can view arrays as a type of variable that can hold more than one element at any given time using a single name for our variable.\n",
    "\n",
    "A list is a 1D vector,\n",
    "\n",
    "<table>\n",
    "    <tr>\n",
    "        <td>A =</td><td>1</td><td>2</td><td>3</td><td>4</td><td>5</td><td>6</td><td>7</td><td>8</td><td>9</td>\n",
    "    </tr>\n",
    "</table>\n",
    "\n",
    "An array is an object with higher dimension,\n",
    "\n",
    "<table>\n",
    "    <tr><td>1</td><td>2</td><td>3</td></tr>\n",
    "    <tr><td>4</td><td>5</td><td>6</td></tr>\n",
    "    <tr><td>7</td><td>8</td><td>9</td></tr>\n",
    "</table>"
   ]
  },
  {
   "cell_type": "code",
   "execution_count": 5,
   "id": "c45a3d3e-7717-4f5f-ae3f-76d323355e3d",
   "metadata": {
    "tags": []
   },
   "outputs": [
    {
     "name": "stdout",
     "output_type": "stream",
     "text": [
      "[1, 2, 3, 4, 5, 6, 7, 8, 9]\n",
      "[[1, 2, 3], [4, 5, 6], [7, 8, 9]]\n"
     ]
    }
   ],
   "source": [
    "one_d_array =  [1, 2, 3, 4 ,5 ,6, 7, 8 , 9]\n",
    "\n",
    "two_d_array = [[1, 2, 3],\n",
    "               [4, 5, 6],\n",
    "               [7, 8, 9]]\n",
    "\n",
    "print(one_d_array)\n",
    "print(two_d_array)"
   ]
  },
  {
   "cell_type": "markdown",
   "id": "cd877f1d-0776-4f15-a4ed-06d34abe4af5",
   "metadata": {
    "tags": []
   },
   "source": [
    "> ## Assignment\n",
    ">\n",
    "> How do we declare a 3D array?\n",
    "\n",
    "~~~\n",
    "three_d_array = \n",
    "~~~"
   ]
  },
  {
   "cell_type": "code",
   "execution_count": 6,
   "id": "e4a63dea",
   "metadata": {},
   "outputs": [
    {
     "name": "stdout",
     "output_type": "stream",
     "text": [
      "[[[1, 2, 3], [4, 5, 6], [7, 8, 9]], [[1, 2, 3], [4, 5, 6], [7, 8, 9]], [[1, 2, 3], [4, 5, 6], [7, 8, 9]]]\n"
     ]
    }
   ],
   "source": [
    "# Answer\n",
    "\n",
    "three_d_array = [ [[1,2,3],[4,5,6],[7,8,9]], [[1,2,3],[4,5,6],[7,8,9]], [[1,2,3],[4,5,6],[7,8,9]] ]\n",
    "\n",
    "print(three_d_array)"
   ]
  },
  {
   "cell_type": "markdown",
   "id": "5ef3d814-5bc4-4208-98f7-e05b41e6ab06",
   "metadata": {},
   "source": [
    "## 2.1 Comprehensions\n",
    "\n",
    "We can use the built-in methods in python to generate lists using the `for` function, we call this method a `comprehension`. The advantage is that of looping automatically. Try the following code to see what a `for` function does when combined with the `range` function\n",
    "\n",
    "~~~\n",
    "for i in range(5):\n",
    "    print(f\"i = {i}\")\n",
    "~~~\n",
    "\n",
    "The syntaxis for the `range` method is simple: **range(start, stop, step)**. It will generate the set of values within a given interval. Note that it only accepts integer values."
   ]
  },
  {
   "cell_type": "code",
   "execution_count": 7,
   "id": "92105667",
   "metadata": {},
   "outputs": [
    {
     "name": "stdout",
     "output_type": "stream",
     "text": [
      "i = 0\n",
      "i = 1\n",
      "i = 2\n",
      "i = 3\n",
      "i = 4\n"
     ]
    }
   ],
   "source": [
    "for i in range(5): print(f\"i = {i}\")"
   ]
  },
  {
   "cell_type": "code",
   "execution_count": 8,
   "id": "56bc5bd7-a115-478e-b9da-fd609d5def22",
   "metadata": {
    "tags": []
   },
   "outputs": [
    {
     "name": "stdout",
     "output_type": "stream",
     "text": [
      "[0, 1, 2, 3, 4, 5, 6, 7, 8, 9, 10, 11, 12, 13, 14, 15, 16, 17, 18, 19]\n"
     ]
    }
   ],
   "source": [
    "one_d_array = [ i for i in range(20) ]\n",
    "\n",
    "print(one_d_array)"
   ]
  },
  {
   "cell_type": "code",
   "execution_count": 9,
   "id": "a6904b63",
   "metadata": {},
   "outputs": [
    {
     "name": "stdout",
     "output_type": "stream",
     "text": [
      "<generator object <genexpr> at 0x1066155f0>\n"
     ]
    }
   ],
   "source": [
    "# Create the same 1D array but as a generator\n",
    "\n",
    "one_d_array = ( i for i in range(20) )\n",
    "\n",
    "print(one_d_array)"
   ]
  },
  {
   "cell_type": "code",
   "execution_count": 10,
   "id": "69bdf6b9",
   "metadata": {},
   "outputs": [
    {
     "name": "stdout",
     "output_type": "stream",
     "text": [
      "0\n",
      "1\n",
      "2\n",
      "3\n",
      "4\n",
      "5\n",
      "6\n",
      "7\n",
      "8\n",
      "9\n",
      "10\n",
      "11\n",
      "12\n",
      "13\n",
      "14\n",
      "15\n",
      "16\n",
      "17\n",
      "18\n",
      "19\n"
     ]
    }
   ],
   "source": [
    "# Access the elements in a generator with a for loop\n",
    "\n",
    "for i in one_d_array: print(i)"
   ]
  },
  {
   "cell_type": "markdown",
   "id": "67e4ae81",
   "metadata": {},
   "source": [
    "If we run again the previous cell we will get no output, because the generator is deleted once we reach its final element."
   ]
  },
  {
   "cell_type": "code",
   "execution_count": 11,
   "id": "7babcf61",
   "metadata": {},
   "outputs": [],
   "source": [
    "# Create a new generator\n",
    "\n",
    "one_d_array = ( i for i in range(5) )"
   ]
  },
  {
   "cell_type": "code",
   "execution_count": 12,
   "id": "f46737f1",
   "metadata": {},
   "outputs": [
    {
     "data": {
      "text/plain": [
       "0"
      ]
     },
     "execution_count": 12,
     "metadata": {},
     "output_type": "execute_result"
    }
   ],
   "source": [
    "# Execute this cell several times\n",
    "\n",
    "next( iter(one_d_array) )"
   ]
  },
  {
   "cell_type": "code",
   "execution_count": 13,
   "id": "60671acb",
   "metadata": {},
   "outputs": [
    {
     "name": "stdout",
     "output_type": "stream",
     "text": [
      "[0, 2, 4, 6, 8, 10, 12, 14, 16, 18]\n",
      "1.44 µs ± 5.38 ns per loop (mean ± std. dev. of 7 runs, 1000000 loops each)\n",
      "488 ns ± 2.76 ns per loop (mean ± std. dev. of 7 runs, 1000000 loops each)\n"
     ]
    }
   ],
   "source": [
    "# Generate an array of 20 elements, but using even numbers\n",
    "\n",
    "one_d_array = [i for i in range(20) if i%2 ==0]\n",
    "\n",
    "print(one_d_array)\n",
    "\n",
    "# Compare timings\n",
    "\n",
    "%timeit one_d_array = [i for i in range(20) if i%2 ==0]\n",
    "\n",
    "%timeit one_d_array = [ i for i in range(0,20,2) ]"
   ]
  },
  {
   "cell_type": "markdown",
   "id": "755a8e95-8490-4339-8142-3c35a129f590",
   "metadata": {
    "tags": []
   },
   "source": [
    "It is possible to nest comprehensions and declare 2D arrays. Consider the following nested loop\n",
    "\n",
    "~~~\n",
    "for i in range(1,10,3):\n",
    "    for j in range(i,i+3):\n",
    "        print(j)\n",
    "~~~\n",
    "\n",
    "How can we express it in a comprehension?"
   ]
  },
  {
   "cell_type": "code",
   "execution_count": 14,
   "id": "ba0889bb-7763-4aef-9446-49a01444f89d",
   "metadata": {
    "tags": []
   },
   "outputs": [
    {
     "name": "stdout",
     "output_type": "stream",
     "text": [
      "[[1, 2, 3], [4, 5, 6], [7, 8, 9]]\n"
     ]
    }
   ],
   "source": [
    "# Answer\n",
    "two_d_array = [ [j for j in range(i,i+3)] for i in range(1,10,3) ]\n",
    "\n",
    "print(two_d_array)\n"
   ]
  },
  {
   "cell_type": "markdown",
   "id": "7984c697-d15a-478d-a342-c317865b201e",
   "metadata": {
    "tags": []
   },
   "source": [
    "## 2.2 Slicing\n",
    "\n",
    "Python provides a concise syntax to access a range of elements in a list. This is known as slicing and uses the slicing operator `:`. With this operator we can specify where to start the slicing, where to end, and the step. In return we get a new list from the parent list."
   ]
  },
  {
   "cell_type": "code",
   "execution_count": 15,
   "id": "b1843fb2-74c6-435c-92fd-6e06c0bd249b",
   "metadata": {
    "tags": []
   },
   "outputs": [
    {
     "name": "stdout",
     "output_type": "stream",
     "text": [
      "elements in A = [0, 1, 2, 3, 4, 5, 6, 7, 8, 9, 10, 11, 12, 13, 14, 15, 16, 17, 18, 19, 20, 21, 22, 23, 24, 25, 26, 27, 28, 29, 30, 31, 32, 33, 34, 35, 36, 37, 38, 39]\n"
     ]
    }
   ],
   "source": [
    "A = [ i for i in range(40) ]\n",
    "\n",
    "print(f\"elements in A = {A}\")"
   ]
  },
  {
   "cell_type": "code",
   "execution_count": 16,
   "id": "78c19eaa-20ea-499e-9694-ef775ef28075",
   "metadata": {
    "tags": []
   },
   "outputs": [
    {
     "name": "stdout",
     "output_type": "stream",
     "text": [
      "first 10 elements in A = [0, 1, 2, 3, 4, 5, 6, 7, 8, 9]\n",
      "first 10 elements in A = [0, 1, 2, 3, 4, 5, 6, 7, 8, 9] using reverse indexing\n"
     ]
    }
   ],
   "source": [
    "B = A[:10]  # First 10 elements in A\n",
    "C = A[:-30] # First 10 elements in A using reverse indexing\n",
    "\n",
    "print(f\"first {len(B)} elements in A = {B}\")\n",
    "print(f\"first {len(C)} elements in A = {C} using reverse indexing\")"
   ]
  },
  {
   "cell_type": "code",
   "execution_count": 17,
   "id": "124d1d43-3564-4854-be34-0a37a7e1d933",
   "metadata": {
    "tags": []
   },
   "outputs": [
    {
     "name": "stdout",
     "output_type": "stream",
     "text": [
      "last 10 elements in A = [30, 31, 32, 33, 34, 35, 36, 37, 38, 39]\n",
      "last 10 elements in A = [30, 31, 32, 33, 34, 35, 36, 37, 38, 39] using reverse indexing\n"
     ]
    }
   ],
   "source": [
    "D = A[30:]  # Last 10 elements in A\n",
    "E = A[-10:] # Last 10 elements in A using reverse indexing\n",
    "\n",
    "print(f\"last {len(D)} elements in A = {D}\")\n",
    "print(f\"last {len(E)} elements in A = {E} using reverse indexing\")"
   ]
  },
  {
   "cell_type": "code",
   "execution_count": 18,
   "id": "8c72312c-4f4e-4033-b2cb-29c2361ccf0c",
   "metadata": {
    "tags": []
   },
   "outputs": [
    {
     "name": "stdout",
     "output_type": "stream",
     "text": [
      "all 10 elements in A = [0, 4, 8, 12, 16, 20, 24, 28, 32, 36] in steps of n\n"
     ]
    }
   ],
   "source": [
    "F = A[::4]  # All 20 elements in A in steps of n\n",
    "\n",
    "print(f\"all {len(F)} elements in A = {F} in steps of n\")"
   ]
  },
  {
   "cell_type": "code",
   "execution_count": 19,
   "id": "9122582e-1df6-4b88-8302-4fa39db5770c",
   "metadata": {
    "tags": []
   },
   "outputs": [
    {
     "name": "stdout",
     "output_type": "stream",
     "text": [
      "A = [0, 0, 0, 0, 0, 0, 0, 0, 0, 0, 10, 11, 12, 13, 14, 15, 16, 17, 18, 19, 20, 21, 22, 23, 24, 25, 26, 27, 28, 29, 30, 31, 32, 33, 34, 35, 36, 37, 38, 39]\n"
     ]
    }
   ],
   "source": [
    "# Assign a value to the specified range in the list\n",
    "\n",
    "A[0:10] = 10*[0] # Here we repeat 10 times the value of 0\n",
    "\n",
    "print(f\"A = {A}\")"
   ]
  },
  {
   "cell_type": "markdown",
   "id": "eb65ad94-dba3-43e7-b7a1-c9fb2f8e7280",
   "metadata": {},
   "source": [
    "## 2.3 Working with arrays\n",
    "\n",
    "In order to do operations with arrays, we need to access/read their values using the index for each of their elements. We will need as many indexes as dimensions in the array. For a simple array, we can use the built-in function `len` to access the number of elements."
   ]
  },
  {
   "cell_type": "code",
   "execution_count": 20,
   "id": "088063ee-d383-404a-a949-ac600cb776c5",
   "metadata": {
    "tags": []
   },
   "outputs": [
    {
     "name": "stdout",
     "output_type": "stream",
     "text": [
      "length of A = 5, length of B = 5\n"
     ]
    }
   ],
   "source": [
    "A = [1, 3, 5, 7, 9]\n",
    "B = [0, 2, 4, 6, 8]\n",
    "\n",
    "size_A = len(A)\n",
    "size_B = len(B)\n",
    "\n",
    "print(f\"length of A = {size_A}, length of B = {size_B}\")"
   ]
  },
  {
   "cell_type": "markdown",
   "id": "bcc5c7c2-de91-4c13-9799-68921153135b",
   "metadata": {},
   "source": [
    "Let's do an element-wise addition of A and B"
   ]
  },
  {
   "cell_type": "code",
   "execution_count": 21,
   "id": "5133840a-6e99-44f3-9e81-638466de1f78",
   "metadata": {
    "tags": []
   },
   "outputs": [
    {
     "name": "stdout",
     "output_type": "stream",
     "text": [
      "C = [1, 5, 9, 13, 17] using append\n",
      "C = [1, 5, 9, 13, 17] using comprehension\n"
     ]
    }
   ],
   "source": [
    "# First approach, appending values to an empty list\n",
    "\n",
    "C = []\n",
    "\n",
    "for idx in range(size_A):\n",
    "    A_plus_B = A[idx] + B[idx]\n",
    "    \n",
    "    C.append(A_plus_B)\n",
    "    \n",
    "print(f\"C = {C} using append\")\n",
    "\n",
    "# Second approach, using a comprehension\n",
    "\n",
    "C = [ A[idx] + B[idx] for idx in range(size_A) ]\n",
    "\n",
    "print(f\"C = {C} using comprehension\")"
   ]
  },
  {
   "cell_type": "markdown",
   "id": "69b51b45-9da2-40d4-84d4-17b35b7bba51",
   "metadata": {},
   "source": [
    "> ## Assignment\n",
    ">\n",
    "> Try running `A + B` and see what happens.\n",
    "\n",
    "~~~\n",
    "print(A+B)\n",
    "~~~"
   ]
  },
  {
   "cell_type": "code",
   "execution_count": 22,
   "id": "2f15a91f",
   "metadata": {},
   "outputs": [
    {
     "name": "stdout",
     "output_type": "stream",
     "text": [
      "[1, 3, 5, 7, 9, 0, 2, 4, 6, 8]\n"
     ]
    }
   ],
   "source": [
    "# Result\n",
    "\n",
    "print(A+B)"
   ]
  },
  {
   "cell_type": "markdown",
   "id": "4d085dbd-88e8-401c-8bf5-a2e40e4a6787",
   "metadata": {},
   "source": [
    "We can use similar approaches for 2D arrays. Let's have a quick look at this code snippet for a rudimentary matrix multiplication"
   ]
  },
  {
   "cell_type": "code",
   "execution_count": 23,
   "id": "2f9b485f-fd85-4a18-9caa-f62997347bb7",
   "metadata": {
    "tags": []
   },
   "outputs": [
    {
     "name": "stdout",
     "output_type": "stream",
     "text": [
      "[[14, -16, 18], [26, -31, 36], [38, -46, 54]]\n"
     ]
    }
   ],
   "source": [
    "A = [[ 1, 2, 3],\n",
    "     [ 4, 5, 6],\n",
    "     [ 7, 8, 9]]\n",
    "\n",
    "B = [[ 1,-2, 3],\n",
    "     [-4, 5,-6],\n",
    "     [ 7,-8, 9]]\n",
    "\n",
    "size_A = len(A)\n",
    "size_B = len(B)\n",
    "\n",
    "C = []\n",
    "\n",
    "for idx in range(size_A):\n",
    "    C.append([])\n",
    "    \n",
    "    for jdx in range(size_B):\n",
    "        \n",
    "        row_A =  A[idx]\n",
    "        \n",
    "        col_B = [ B[kdx][jdx] for kdx in range(size_B) ]\n",
    "        \n",
    "        size_row_A = len(row_A)\n",
    "        \n",
    "        mult_A_B   = sum( [row_A[kdx] * col_B[kdx] for kdx in range(size_row_A)] )\n",
    "        \n",
    "        C[idx].append(mult_A_B)\n",
    "\n",
    "print(C)"
   ]
  },
  {
   "cell_type": "markdown",
   "id": "d21266d6-d5e8-4e89-8c79-4f2501a14974",
   "metadata": {},
   "source": [
    "## 2.4 NumPy\n",
    "\n",
    "Clearly the task can become daunting and prone to mistakes. Here is where the [NumPy](https://numpy.org/) library comes in handy. It is an open-source package that has become fundamental for scientific computing with Python. The library includes many features, such as powerful multi-dimensional array objects with sophisticated broadcasting functions, as well as tools for linear algebra. The package is easy to install with\n",
    "\n",
    "~~~\n",
    "%pip install numpy\n",
    "~~~\n",
    "\n",
    "Before using it, we need to load it to our workflow with `import`. Also, we can create a shorthand notation for it, an alias, with the option `as`. In simple terms, a NumPy array is a grid of values, all of the same type. These, like Python arrays, are indexed starting from zero. The number of dimensions is the rank of the array, whereas its shape is a tuple of integers giving the size of the array along each dimension.\n",
    "\n",
    "We can initialize a NumPy array from a python list/array, and access the elements using square brakets."
   ]
  },
  {
   "cell_type": "code",
   "execution_count": 24,
   "id": "3789f04d-1e18-4825-bcb9-571882224300",
   "metadata": {
    "tags": []
   },
   "outputs": [
    {
     "ename": "ImportError",
     "evalue": "\n\nIMPORTANT: PLEASE READ THIS FOR ADVICE ON HOW TO SOLVE THIS ISSUE!\n\nImporting the numpy C-extensions failed. This error can happen for\nmany reasons, often due to issues with your setup or how NumPy was\ninstalled.\n\nWe have compiled some common reasons and troubleshooting tips at:\n\n    https://numpy.org/devdocs/user/troubleshooting-importerror.html\n\nPlease note and check the following:\n\n  * The Python version is: Python3.9 from \"/usr/local/bin/python3\"\n  * The NumPy version is: \"1.22.3\"\n\nand make sure that they are the versions you expect.\nPlease carefully study the documentation linked above for further help.\n\nOriginal error was: dlopen(/Library/Frameworks/Python.framework/Versions/3.9/lib/python3.9/site-packages/numpy/core/_multiarray_umath.cpython-39-darwin.so, 0x0002): tried: '/Library/Frameworks/Python.framework/Versions/3.9/lib/python3.9/site-packages/numpy/core/_multiarray_umath.cpython-39-darwin.so' (mach-o file, but is an incompatible architecture (have 'x86_64', need 'arm64e' or 'arm64')), '/System/Volumes/Preboot/Cryptexes/OS/Library/Frameworks/Python.framework/Versions/3.9/lib/python3.9/site-packages/numpy/core/_multiarray_umath.cpython-39-darwin.so' (no such file), '/Library/Frameworks/Python.framework/Versions/3.9/lib/python3.9/site-packages/numpy/core/_multiarray_umath.cpython-39-darwin.so' (mach-o file, but is an incompatible architecture (have 'x86_64', need 'arm64e' or 'arm64'))\n",
     "output_type": "error",
     "traceback": [
      "\u001b[0;31m---------------------------------------------------------------------------\u001b[0m",
      "\u001b[0;31mImportError\u001b[0m                               Traceback (most recent call last)",
      "\u001b[0;32m/Library/Frameworks/Python.framework/Versions/3.9/lib/python3.9/site-packages/numpy/core/__init__.py\u001b[0m in \u001b[0;36m<module>\u001b[0;34m\u001b[0m\n\u001b[1;32m     22\u001b[0m \u001b[0;32mtry\u001b[0m\u001b[0;34m:\u001b[0m\u001b[0;34m\u001b[0m\u001b[0;34m\u001b[0m\u001b[0m\n\u001b[0;32m---> 23\u001b[0;31m     \u001b[0;32mfrom\u001b[0m \u001b[0;34m.\u001b[0m \u001b[0;32mimport\u001b[0m \u001b[0mmultiarray\u001b[0m\u001b[0;34m\u001b[0m\u001b[0;34m\u001b[0m\u001b[0m\n\u001b[0m\u001b[1;32m     24\u001b[0m \u001b[0;32mexcept\u001b[0m \u001b[0mImportError\u001b[0m \u001b[0;32mas\u001b[0m \u001b[0mexc\u001b[0m\u001b[0;34m:\u001b[0m\u001b[0;34m\u001b[0m\u001b[0;34m\u001b[0m\u001b[0m\n",
      "\u001b[0;32m/Library/Frameworks/Python.framework/Versions/3.9/lib/python3.9/site-packages/numpy/core/multiarray.py\u001b[0m in \u001b[0;36m<module>\u001b[0;34m\u001b[0m\n\u001b[1;32m      9\u001b[0m \u001b[0;32mimport\u001b[0m \u001b[0mfunctools\u001b[0m\u001b[0;34m\u001b[0m\u001b[0;34m\u001b[0m\u001b[0m\n\u001b[0;32m---> 10\u001b[0;31m \u001b[0;32mfrom\u001b[0m \u001b[0;34m.\u001b[0m \u001b[0;32mimport\u001b[0m \u001b[0moverrides\u001b[0m\u001b[0;34m\u001b[0m\u001b[0;34m\u001b[0m\u001b[0m\n\u001b[0m\u001b[1;32m     11\u001b[0m \u001b[0;32mfrom\u001b[0m \u001b[0;34m.\u001b[0m \u001b[0;32mimport\u001b[0m \u001b[0m_multiarray_umath\u001b[0m\u001b[0;34m\u001b[0m\u001b[0;34m\u001b[0m\u001b[0m\n",
      "\u001b[0;32m/Library/Frameworks/Python.framework/Versions/3.9/lib/python3.9/site-packages/numpy/core/overrides.py\u001b[0m in \u001b[0;36m<module>\u001b[0;34m\u001b[0m\n\u001b[1;32m      5\u001b[0m \u001b[0;34m\u001b[0m\u001b[0m\n\u001b[0;32m----> 6\u001b[0;31m from numpy.core._multiarray_umath import (\n\u001b[0m\u001b[1;32m      7\u001b[0m     add_docstring, implement_array_function, _get_implementing_args)\n",
      "\u001b[0;31mImportError\u001b[0m: dlopen(/Library/Frameworks/Python.framework/Versions/3.9/lib/python3.9/site-packages/numpy/core/_multiarray_umath.cpython-39-darwin.so, 0x0002): tried: '/Library/Frameworks/Python.framework/Versions/3.9/lib/python3.9/site-packages/numpy/core/_multiarray_umath.cpython-39-darwin.so' (mach-o file, but is an incompatible architecture (have 'x86_64', need 'arm64e' or 'arm64')), '/System/Volumes/Preboot/Cryptexes/OS/Library/Frameworks/Python.framework/Versions/3.9/lib/python3.9/site-packages/numpy/core/_multiarray_umath.cpython-39-darwin.so' (no such file), '/Library/Frameworks/Python.framework/Versions/3.9/lib/python3.9/site-packages/numpy/core/_multiarray_umath.cpython-39-darwin.so' (mach-o file, but is an incompatible architecture (have 'x86_64', need 'arm64e' or 'arm64'))",
      "\nDuring handling of the above exception, another exception occurred:\n",
      "\u001b[0;31mImportError\u001b[0m                               Traceback (most recent call last)",
      "\u001b[0;32m/var/folders/4n/n4j1d7sd4bq5_h54mhjlkfy80000gp/T/ipykernel_61550/3860451255.py\u001b[0m in \u001b[0;36m<module>\u001b[0;34m\u001b[0m\n\u001b[0;32m----> 1\u001b[0;31m \u001b[0;32mimport\u001b[0m \u001b[0mnumpy\u001b[0m \u001b[0;32mas\u001b[0m \u001b[0mnp\u001b[0m\u001b[0;34m\u001b[0m\u001b[0;34m\u001b[0m\u001b[0m\n\u001b[0m\u001b[1;32m      2\u001b[0m \u001b[0;34m\u001b[0m\u001b[0m\n\u001b[1;32m      3\u001b[0m A = np.array( [[ 1, 2, 3],\n\u001b[1;32m      4\u001b[0m                \u001b[0;34m[\u001b[0m \u001b[0;36m4\u001b[0m\u001b[0;34m,\u001b[0m \u001b[0;36m5\u001b[0m\u001b[0;34m,\u001b[0m \u001b[0;36m6\u001b[0m\u001b[0;34m]\u001b[0m\u001b[0;34m,\u001b[0m\u001b[0;34m\u001b[0m\u001b[0;34m\u001b[0m\u001b[0m\n\u001b[1;32m      5\u001b[0m                [ 7, 8, 9]] )\n",
      "\u001b[0;32m/Library/Frameworks/Python.framework/Versions/3.9/lib/python3.9/site-packages/numpy/__init__.py\u001b[0m in \u001b[0;36m<module>\u001b[0;34m\u001b[0m\n\u001b[1;32m    142\u001b[0m     \u001b[0;32mfrom\u001b[0m \u001b[0;34m.\u001b[0m \u001b[0;32mimport\u001b[0m \u001b[0m_distributor_init\u001b[0m\u001b[0;34m\u001b[0m\u001b[0;34m\u001b[0m\u001b[0m\n\u001b[1;32m    143\u001b[0m \u001b[0;34m\u001b[0m\u001b[0m\n\u001b[0;32m--> 144\u001b[0;31m     \u001b[0;32mfrom\u001b[0m \u001b[0;34m.\u001b[0m \u001b[0;32mimport\u001b[0m \u001b[0mcore\u001b[0m\u001b[0;34m\u001b[0m\u001b[0;34m\u001b[0m\u001b[0m\n\u001b[0m\u001b[1;32m    145\u001b[0m     \u001b[0;32mfrom\u001b[0m \u001b[0;34m.\u001b[0m\u001b[0mcore\u001b[0m \u001b[0;32mimport\u001b[0m \u001b[0;34m*\u001b[0m\u001b[0;34m\u001b[0m\u001b[0;34m\u001b[0m\u001b[0m\n\u001b[1;32m    146\u001b[0m     \u001b[0;32mfrom\u001b[0m \u001b[0;34m.\u001b[0m \u001b[0;32mimport\u001b[0m \u001b[0mcompat\u001b[0m\u001b[0;34m\u001b[0m\u001b[0;34m\u001b[0m\u001b[0m\n",
      "\u001b[0;32m/Library/Frameworks/Python.framework/Versions/3.9/lib/python3.9/site-packages/numpy/core/__init__.py\u001b[0m in \u001b[0;36m<module>\u001b[0;34m\u001b[0m\n\u001b[1;32m     47\u001b[0m \"\"\" % (sys.version_info[0], sys.version_info[1], sys.executable,\n\u001b[1;32m     48\u001b[0m         __version__, exc)\n\u001b[0;32m---> 49\u001b[0;31m     \u001b[0;32mraise\u001b[0m \u001b[0mImportError\u001b[0m\u001b[0;34m(\u001b[0m\u001b[0mmsg\u001b[0m\u001b[0;34m)\u001b[0m\u001b[0;34m\u001b[0m\u001b[0;34m\u001b[0m\u001b[0m\n\u001b[0m\u001b[1;32m     50\u001b[0m \u001b[0;32mfinally\u001b[0m\u001b[0;34m:\u001b[0m\u001b[0;34m\u001b[0m\u001b[0;34m\u001b[0m\u001b[0m\n\u001b[1;32m     51\u001b[0m     \u001b[0;32mfor\u001b[0m \u001b[0menvkey\u001b[0m \u001b[0;32min\u001b[0m \u001b[0menv_added\u001b[0m\u001b[0;34m:\u001b[0m\u001b[0;34m\u001b[0m\u001b[0;34m\u001b[0m\u001b[0m\n",
      "\u001b[0;31mImportError\u001b[0m: \n\nIMPORTANT: PLEASE READ THIS FOR ADVICE ON HOW TO SOLVE THIS ISSUE!\n\nImporting the numpy C-extensions failed. This error can happen for\nmany reasons, often due to issues with your setup or how NumPy was\ninstalled.\n\nWe have compiled some common reasons and troubleshooting tips at:\n\n    https://numpy.org/devdocs/user/troubleshooting-importerror.html\n\nPlease note and check the following:\n\n  * The Python version is: Python3.9 from \"/usr/local/bin/python3\"\n  * The NumPy version is: \"1.22.3\"\n\nand make sure that they are the versions you expect.\nPlease carefully study the documentation linked above for further help.\n\nOriginal error was: dlopen(/Library/Frameworks/Python.framework/Versions/3.9/lib/python3.9/site-packages/numpy/core/_multiarray_umath.cpython-39-darwin.so, 0x0002): tried: '/Library/Frameworks/Python.framework/Versions/3.9/lib/python3.9/site-packages/numpy/core/_multiarray_umath.cpython-39-darwin.so' (mach-o file, but is an incompatible architecture (have 'x86_64', need 'arm64e' or 'arm64')), '/System/Volumes/Preboot/Cryptexes/OS/Library/Frameworks/Python.framework/Versions/3.9/lib/python3.9/site-packages/numpy/core/_multiarray_umath.cpython-39-darwin.so' (no such file), '/Library/Frameworks/Python.framework/Versions/3.9/lib/python3.9/site-packages/numpy/core/_multiarray_umath.cpython-39-darwin.so' (mach-o file, but is an incompatible architecture (have 'x86_64', need 'arm64e' or 'arm64'))\n"
     ]
    }
   ],
   "source": [
    "import numpy as np\n",
    "\n",
    "A = np.array( [[ 1, 2, 3],\n",
    "               [ 4, 5, 6],\n",
    "               [ 7, 8, 9]] )\n",
    "\n",
    "B = np.array( [[ 1,-2, 3],\n",
    "               [-4, 5,-6],\n",
    "               [ 7,-8, 9]] )\n",
    "\n",
    "# Matrix multiplication between A and B\n",
    "\n",
    "C = np.matmul(A,B)\n",
    "\n",
    "print(f\"AxB =\\n{C} using matmul\\n\")\n",
    "\n",
    "# Shorthand notation using @\n",
    "\n",
    "C = A@B\n",
    "\n",
    "print(f\"AxB =\\n{C} using shortcut\")"
   ]
  },
  {
   "cell_type": "markdown",
   "id": "fa499222-7dd9-4a40-85a2-0fd3b14de782",
   "metadata": {},
   "source": [
    "Element-wise operations also are possible and straightforward"
   ]
  },
  {
   "cell_type": "code",
   "execution_count": null,
   "id": "7272bc7c-ee91-40c6-8902-35176532fb22",
   "metadata": {
    "tags": []
   },
   "outputs": [],
   "source": [
    "# Element-wise summation\n",
    "\n",
    "print(f\"A + B =\\n{A + B}\\n\")"
   ]
  },
  {
   "cell_type": "code",
   "execution_count": null,
   "id": "42803966-0b78-4a13-becd-07bfb0c0ac6d",
   "metadata": {
    "tags": []
   },
   "outputs": [],
   "source": [
    "# Element-wise multiplication\n",
    "\n",
    "print(f\"A * B =\\n{A*B}\\n\\nA * B =\\n{np.multiply(A,B)} using mult\\n\")"
   ]
  },
  {
   "cell_type": "code",
   "execution_count": null,
   "id": "0ffc58bd-7535-40f6-a7f3-97aef681655a",
   "metadata": {
    "tags": []
   },
   "outputs": [],
   "source": [
    "# Global addition of a constant value\n",
    "\n",
    "C = A + 6\n",
    "\n",
    "print(f\"A + 6 =\\n{C}\\n\")"
   ]
  },
  {
   "cell_type": "code",
   "execution_count": null,
   "id": "3cf8ae4b-491f-4c09-9029-cfdc25479610",
   "metadata": {
    "tags": []
   },
   "outputs": [],
   "source": [
    "# Rasing to a power all elements in the array\n",
    "\n",
    "C = np.power(A, 3)\n",
    "\n",
    "print(f\"A^2 =\\n{C}\")"
   ]
  },
  {
   "cell_type": "markdown",
   "id": "6c18db32-389a-4e4d-bd9c-2d38ff289353",
   "metadata": {},
   "source": [
    "Arrays with boolean elements are useful should we wish to mask some elements of the array. Typically, these are the result of some comparison operator `==`, `<`, `>`, or `!=`"
   ]
  },
  {
   "cell_type": "code",
   "execution_count": null,
   "id": "028b9b9f-f5f5-435b-a23c-39c2b2f5f592",
   "metadata": {
    "tags": []
   },
   "outputs": [],
   "source": [
    "A = np.array( [[ 1, 2, 3],\n",
    "               [ 4, 5, 6],\n",
    "               [ 7, 8, 9]] )\n",
    "\n",
    "B = np.array( [[ 1,-2, 3],\n",
    "               [-4, 5,-6],\n",
    "               [ 7,-8, 9]] )\n",
    "\n",
    "mask = A > B\n",
    "\n",
    "print(f\"mask =\\n{mask}\\n\")\n",
    "\n",
    "print(f\"masked A = {A[mask]}\\n\")"
   ]
  },
  {
   "cell_type": "code",
   "execution_count": null,
   "id": "361e4d1c-8adb-4a11-a71e-1f09d38d66cb",
   "metadata": {
    "tags": []
   },
   "outputs": [],
   "source": [
    "A[mask] = 1\n",
    "\n",
    "print(f\"new A =\\n{A}\")"
   ]
  },
  {
   "cell_type": "code",
   "execution_count": null,
   "id": "15c1f558-813d-418d-b1f5-263314b4a1ac",
   "metadata": {
    "tags": []
   },
   "outputs": [],
   "source": [
    "# Single-line masking\n",
    "\n",
    "A = np.array( [[1, 2,3], [ 4,5, 6], [7, 8,9]] )\n",
    "B = np.array( [[1,-2,3], [-4,5,-6], [7,-8,9]] )\n",
    "\n",
    "A[A>B] = 1\n",
    "\n",
    "print(f\"new A =\\n{A}\")"
   ]
  },
  {
   "cell_type": "markdown",
   "id": "347505e8-95ca-4552-91d7-282b9ae5cf9a",
   "metadata": {},
   "source": [
    "We can also get the `shape` of any NumPy array"
   ]
  },
  {
   "cell_type": "code",
   "execution_count": null,
   "id": "fbdec8c2-f52f-48fd-89ec-583c5ef6d1f8",
   "metadata": {
    "tags": []
   },
   "outputs": [],
   "source": [
    "A = np.array( [[1,2,3],\n",
    "               [4,5,6],\n",
    "               [7,8,9],\n",
    "               [0,1,1]] )\n",
    "\n",
    "print(f\"shape = {A.shape}\")\n",
    "\n",
    "# Asign the array's shape to a variable\n",
    "\n",
    "row_and_col = A.shape\n",
    "\n",
    "print(f\"row_and_col = {row_and_col}\")\n",
    "\n",
    "# Asign the array's shape to the 'row' and 'col' variables\n",
    "\n",
    "row, col = A.shape\n",
    "\n",
    "print(f\"row = {row}, col = {col}\")"
   ]
  },
  {
   "cell_type": "markdown",
   "id": "96f552fa-8a01-4683-9364-bcbffbe36565",
   "metadata": {
    "tags": []
   },
   "source": [
    "### 2.4.1 Specifying an axis and reshaping\n",
    "\n",
    "For the sake of simplicity, let's assume simple 1D, 2D, and 3D matrices, with struture\n",
    "\n",
    "<img src=\"https://cdn-images-1.medium.com/v2/resize:fit:1120/1*Ikn1J6siiiCSk4ivYUhdgw.png\" style=\"background-color: white;\" width=585>\n",
    "\n",
    "As stated in the Figure, a column-wise operation is specified with the `axis = 0` option, whereas a row-wise operation corresponds to `axis = 1`. For a 3D array, `axis = 2` defines its depth."
   ]
  },
  {
   "cell_type": "code",
   "execution_count": null,
   "id": "59519226-46f1-4111-9fe7-5b71c049dd4c",
   "metadata": {
    "tags": []
   },
   "outputs": [],
   "source": [
    "A = np.arange(start=0, stop=12, step=1).reshape(3,4)\n",
    "\n",
    "print(f\"A =\\n{A}\\n\")\n",
    "\n",
    "print(f\"total sum = {np.sum(A)}, column-wise sum = {np.sum(A, axis=0)}, row-wise sum = {np.sum(A, axis=1)}\")"
   ]
  },
  {
   "cell_type": "markdown",
   "id": "16aab8ba-25f8-4deb-afa2-6c3b3c408c1e",
   "metadata": {
    "tags": []
   },
   "source": [
    "We used the `reshape` command already in the previous example, but we can change the shape of any array subject to *rows $\\times$ cols = total elements*. In the following example we will also introduce the built-in function `zip` that combines element-wise the contents of two or more lists, and the `flip` command from NumPy that reverts the order of the elements in an array."
   ]
  },
  {
   "cell_type": "code",
   "execution_count": null,
   "id": "3d2ed49c-8b50-4ba9-9cbb-f43d1ca99742",
   "metadata": {
    "tags": []
   },
   "outputs": [],
   "source": [
    "A    = np.arange(start=0, stop=48, step=1)\n",
    "\n",
    "rows = np.array( [1, 2, 3, 4, 6, 8, 12, 16, 24, 48] )\n",
    "cols = np.flip(rows) # Invert the order of the elements in an array\n",
    "\n",
    "for row, col in zip(rows,cols):\n",
    "    print(f\"row = {row:2d}, col = {col:2d}, A =\\n{A.reshape(row,col)}\\n\")"
   ]
  },
  {
   "cell_type": "markdown",
   "id": "6980eca8-05b9-404c-828e-bc65b9e4a021",
   "metadata": {},
   "source": [
    "> # Assignment\n",
    ">\n",
    "> Create a 2D NumPy array and use `flip` with the argument `axis=0` and next with `axis=1`. Discuss your observations."
   ]
  },
  {
   "cell_type": "code",
   "execution_count": null,
   "id": "0030e714",
   "metadata": {},
   "outputs": [],
   "source": [
    "# Result\n",
    "\n",
    "A = np.array( [[0,1,2],\n",
    "               [3,4,5],\n",
    "               [6,7,8]] )\n",
    "\n",
    "print(f\"axis=0 flip =\\n{np.flip(A,axis=0)}\\n\")\n",
    "\n",
    "print(f\"axis=1 flip =\\n{np.flip(A,axis=1)}\")"
   ]
  },
  {
   "cell_type": "markdown",
   "id": "bb364109-9630-4102-8cd4-a5675f8be193",
   "metadata": {},
   "source": [
    "### 2.4.2 Initializing NumPy arrays\n",
    "\n",
    "Several alternatives are available to define and initialize an array in NumPy. By default NumPy assumes a `float` type. This can be specified as an argument with `dtype`, e.g., `dtype=int` or `dtype=bool`"
   ]
  },
  {
   "cell_type": "code",
   "execution_count": null,
   "id": "289b4491-e285-41b9-88e5-5afd9e558442",
   "metadata": {
    "tags": []
   },
   "outputs": [],
   "source": [
    "# Fill the array with zeros\n",
    "\n",
    "A = np.zeros( (3,5) )\n",
    "\n",
    "print(A)"
   ]
  },
  {
   "cell_type": "code",
   "execution_count": null,
   "id": "5c1ba5cf-65ad-49e8-8ef6-085c192b603f",
   "metadata": {
    "tags": []
   },
   "outputs": [],
   "source": [
    "# Fill the array with ones\n",
    "\n",
    "A = np.ones( (4,6) )\n",
    "\n",
    "print(A)"
   ]
  },
  {
   "cell_type": "code",
   "execution_count": null,
   "id": "3fbcc51a-9e6b-4e01-b8e6-592853fff2da",
   "metadata": {
    "tags": []
   },
   "outputs": [],
   "source": [
    "# Fill the array with a constant value\n",
    "\n",
    "A = np.full( (2,7), 5.0)\n",
    "\n",
    "print(A)"
   ]
  },
  {
   "cell_type": "code",
   "execution_count": null,
   "id": "6a6cd796-a469-42c5-b817-b560c9a54018",
   "metadata": {
    "tags": []
   },
   "outputs": [],
   "source": [
    "# Identity matrix\n",
    "\n",
    "A = np.identity(6)\n",
    "\n",
    "print(A)"
   ]
  },
  {
   "cell_type": "code",
   "execution_count": null,
   "id": "4c082365-91a9-4abe-a8ab-4029d75f118d",
   "metadata": {
    "tags": []
   },
   "outputs": [],
   "source": [
    "# Diagonal matrix with the possibility of an offset using k=n\n",
    "\n",
    "A = np.eye(6, k=0)\n",
    "\n",
    "print(A)"
   ]
  },
  {
   "cell_type": "code",
   "execution_count": null,
   "id": "ca9f8b15-128a-4777-b41b-9f9c0549a1c6",
   "metadata": {
    "tags": []
   },
   "outputs": [],
   "source": [
    "# Fill the array with random numbers\n",
    "\n",
    "A = np.random.random( (3,2) )\n",
    "\n",
    "print(A)"
   ]
  },
  {
   "cell_type": "code",
   "execution_count": null,
   "id": "2b684a9c-1279-4634-a17a-ad05b17e25e4",
   "metadata": {
    "tags": []
   },
   "outputs": [],
   "source": [
    "# Empty array. NOTE: NumPy actually fills it with zeros.\n",
    "\n",
    "A = np.empty( (8,4) )\n",
    "\n",
    "print(A)"
   ]
  },
  {
   "cell_type": "markdown",
   "id": "eaa66381-3ffd-4645-becf-3e3a9d1c8abb",
   "metadata": {},
   "source": [
    "### 2.4.3 Array Indexing\n",
    "\n",
    "We access an array element by referring to its index number. The index must be an integer. Linear arrays are straightforward, but it is important to keep in mind that the indexes for high-dimensional arrays are separated by commas. We can also use slicing methods to access subarrays."
   ]
  },
  {
   "cell_type": "markdown",
   "id": "8d1c3f09-ca26-4c3b-bd19-da8ae11f7b56",
   "metadata": {
    "tags": []
   },
   "source": [
    "#### 2.4.3.1 1D array"
   ]
  },
  {
   "cell_type": "code",
   "execution_count": null,
   "id": "afceeb45-1c2e-4065-aaba-99c8cd23b903",
   "metadata": {
    "tags": []
   },
   "outputs": [],
   "source": [
    "A = np.linspace(1,20,20)\n",
    "\n",
    "print(f\"A = {A}\")"
   ]
  },
  {
   "cell_type": "code",
   "execution_count": null,
   "id": "4822924a-5b83-4534-a2b8-5cec47a44015",
   "metadata": {
    "tags": []
   },
   "outputs": [],
   "source": [
    "# Access one element at a time\n",
    "\n",
    "for idx in range(5):\n",
    "    \n",
    "    value = A[idx]\n",
    "    \n",
    "    print(f\"index {idx:1d} contains {value:3.1f}\")"
   ]
  },
  {
   "cell_type": "code",
   "execution_count": null,
   "id": "0472aac8-02cd-49b0-9f5a-672d936fc514",
   "metadata": {
    "tags": []
   },
   "outputs": [],
   "source": [
    "# Access a range of elements\n",
    "\n",
    "idx   = np.arange(start=0, stop=20, step=4)\n",
    "\n",
    "value = A[idx]\n",
    "\n",
    "print(f\"index {idx} contains {value}\")"
   ]
  },
  {
   "cell_type": "markdown",
   "id": "84bb1ae7-e4b4-448b-b356-e5ea4069ad3c",
   "metadata": {},
   "source": [
    "#### 2.4.3.2 2D array"
   ]
  },
  {
   "cell_type": "code",
   "execution_count": null,
   "id": "60a47023-fd08-400f-af71-dc11b4f5dc8a",
   "metadata": {
    "tags": []
   },
   "outputs": [],
   "source": [
    "A = np.arange(start=0, stop=12, step=1).reshape(4,3)\n",
    "\n",
    "print(f\"A =\\n{A}\")"
   ]
  },
  {
   "cell_type": "code",
   "execution_count": null,
   "id": "4ad53e53-ae10-4509-90f8-fff32d21f593",
   "metadata": {
    "tags": []
   },
   "outputs": [],
   "source": [
    "# Access one element at a time\n",
    "\n",
    "value = A[3,1]\n",
    "\n",
    "print(f\"selected value  is {value}\")"
   ]
  },
  {
   "cell_type": "code",
   "execution_count": null,
   "id": "14add93a-3dc1-4307-9314-0db464d9f863",
   "metadata": {
    "tags": []
   },
   "outputs": [],
   "source": [
    "# Access first column\n",
    "\n",
    "value = A[:,0]\n",
    "\n",
    "print(f\"A =\\n{A}\\n\")\n",
    "print(f\"selected column is {value}\")"
   ]
  },
  {
   "cell_type": "code",
   "execution_count": null,
   "id": "8066484b-522a-4a6f-b677-5aa254ffd6f1",
   "metadata": {
    "tags": []
   },
   "outputs": [],
   "source": [
    "# Access second row\n",
    "\n",
    "value = A[2,:]\n",
    "\n",
    "print(f\"A =\\n{A}\\n\")\n",
    "print(f\"selected row is {value}\")"
   ]
  },
  {
   "cell_type": "code",
   "execution_count": null,
   "id": "2749650e-cc17-40ad-a8e8-80976ea8b726",
   "metadata": {
    "tags": []
   },
   "outputs": [],
   "source": [
    "# Use a mask\n",
    "\n",
    "idx   = A%2 != 0\n",
    "\n",
    "value = A[idx]\n",
    "\n",
    "print(f\"A =\\n{A}\\n\")\n",
    "print(f\"selected mask is {value}\")"
   ]
  },
  {
   "cell_type": "code",
   "execution_count": null,
   "id": "9a275d43-a6ce-4f9f-a922-229b98ae9797",
   "metadata": {
    "tags": []
   },
   "outputs": [],
   "source": [
    "# Access the diagonal\n",
    "\n",
    "value = np.diagonal(A)\n",
    "\n",
    "print(f\"A =\\n{A}\\n\")\n",
    "print(f\"selected range is {value}\")"
   ]
  },
  {
   "cell_type": "markdown",
   "id": "93d0d61c-3e2c-4706-9960-3d9f0ff71f9f",
   "metadata": {
    "tags": []
   },
   "source": [
    "### 2.4.4 Some other examples"
   ]
  },
  {
   "cell_type": "code",
   "execution_count": null,
   "id": "b487b3bd-02b6-43f6-8d36-d655e0bfc85b",
   "metadata": {
    "tags": []
   },
   "outputs": [],
   "source": [
    "# Randomly shuffle the elements in a 1D array.\n",
    "\n",
    "A = np.arange(start=0, stop=12, step=1)\n",
    "\n",
    "print(f\"array before shuffling\\n{A}\")\n",
    "\n",
    "np.random.shuffle(A)\n",
    "\n",
    "print(f\"array after  shuffling\\n{A}\")"
   ]
  },
  {
   "cell_type": "code",
   "execution_count": null,
   "id": "d572f0b3-6002-4d46-b3bb-32993e71365f",
   "metadata": {
    "tags": []
   },
   "outputs": [],
   "source": [
    "# Randomly shuffle the elements in a 2D array. NOTE: shuffling takes place along the first axis of the array\n",
    "\n",
    "A = np.arange(start=0, stop=12, step=1).reshape(4,3)\n",
    "\n",
    "print(f\"array before shuffling\\n{A}\")\n",
    "\n",
    "np.random.shuffle(A)\n",
    "\n",
    "print(f\"array after  shuffling\\n{A}\")"
   ]
  },
  {
   "cell_type": "code",
   "execution_count": null,
   "id": "609ba991-913c-4ce9-b76e-58359ae425e2",
   "metadata": {
    "tags": []
   },
   "outputs": [],
   "source": [
    "# Substitute elements subject to a condition\n",
    "\n",
    "A = np.array( [[ 0,  1,  2],\n",
    "               [ 3,  4,  5],\n",
    "               [ 6,  7,  8],\n",
    "               [ 9, 10, 11]] )\n",
    "\n",
    "B = np.where(A%2==0, 1, 0)\n",
    "\n",
    "print(f\"array after substitution\\n{B}\")"
   ]
  },
  {
   "cell_type": "code",
   "execution_count": null,
   "id": "93ca3111-5165-425f-9679-be9ca8acb1cf",
   "metadata": {
    "tags": []
   },
   "outputs": [],
   "source": [
    "# Dot product between two 1D arrays\n",
    "\n",
    "A = np.array( [1.0, 2.0, 1.0] )\n",
    "B = np.array( [1.0, 5.0, 2.0] )\n",
    "\n",
    "C = np.dot(A,B)\n",
    "\n",
    "print(f\"dot product = {C}\")"
   ]
  },
  {
   "cell_type": "code",
   "execution_count": null,
   "id": "133fe0c3-cb84-4875-8be0-6da5dc35497b",
   "metadata": {
    "tags": []
   },
   "outputs": [],
   "source": [
    "# Cross product between two 1D arrays\n",
    "\n",
    "A = np.array( [1.0, 2.0, 1.0] )\n",
    "B = np.array( [1.0, 5.0, 2.0] )\n",
    "\n",
    "C = np.cross(A,B)\n",
    "\n",
    "print(f\"cross product = {C}\")"
   ]
  },
  {
   "cell_type": "code",
   "execution_count": null,
   "id": "95ed3367-90fa-4aec-8842-451e6341de21",
   "metadata": {
    "tags": []
   },
   "outputs": [],
   "source": [
    "# Element-wise exponentials\n",
    "\n",
    "A = np.array( [1.0, 1.5, 2.0, 2.5] )\n",
    "\n",
    "B = np.exp(A)\n",
    "\n",
    "print(f\"exponential = {B}\")"
   ]
  },
  {
   "cell_type": "code",
   "execution_count": null,
   "id": "3dbf9ce0-23b0-47e0-9cc8-f0c74521a0c8",
   "metadata": {
    "tags": []
   },
   "outputs": [],
   "source": [
    "# Element-wise natural logarith\n",
    "\n",
    "A = np.array( [2.7183, 4.4817, 7.3891, 12.1825] )\n",
    "\n",
    "B = np.log(A)\n",
    "\n",
    "print(f\"natural logarithm = {B}\")"
   ]
  },
  {
   "cell_type": "code",
   "execution_count": null,
   "id": "aed926c4-c776-420c-86d0-d2954ed35c3f",
   "metadata": {
    "tags": []
   },
   "outputs": [],
   "source": [
    "# Element-wise logarith with different base \n",
    "\n",
    "A = np.array( [2.0, 16.0, 256.0, 4096.0] )\n",
    "\n",
    "print(f\"base  2 logarithm = {np.log2(A)}\")\n",
    "\n",
    "A = np.array( [10.0, 100.0, 1000.0, 10000.0] )\n",
    "\n",
    "print(f\"base 10 logarithm = {np.log10(A)}\")"
   ]
  },
  {
   "cell_type": "code",
   "execution_count": null,
   "id": "4f4cb028-3def-4225-8c48-f7ea47d320cb",
   "metadata": {
    "tags": []
   },
   "outputs": [],
   "source": [
    "# Discrete difference in 1D arrays\n",
    "\n",
    "A = np.array( [0, 1, 3, 6, 10, 15] )\n",
    "\n",
    "B = np.diff(A)\n",
    "\n",
    "print(f\"discrete difference = {B}\")"
   ]
  },
  {
   "cell_type": "code",
   "execution_count": null,
   "id": "bbf908b4-3f14-4148-947e-31369485abc6",
   "metadata": {
    "tags": []
   },
   "outputs": [],
   "source": [
    "# Column-wise discrete diference in 2D arrays\n",
    "\n",
    "A = np.array( [[ 0, 1, 2],\n",
    "               [ 1, 3, 5],\n",
    "               [ 4, 7,10]] )\n",
    "\n",
    "B = np.diff(A, axis=0)\n",
    "\n",
    "print(f\"column difference =\\n{B}\")"
   ]
  },
  {
   "cell_type": "code",
   "execution_count": null,
   "id": "a07625bd-6c51-45f9-95f2-cd1722249d5b",
   "metadata": {
    "tags": []
   },
   "outputs": [],
   "source": [
    "# Row-wise discrete diference in 2D arrays\n",
    "\n",
    "A = np.array( [[ 0, 1, 4],\n",
    "               [ 1, 3, 7],\n",
    "               [ 2, 5,10]] )\n",
    "\n",
    "B = np.diff(A, axis=1)\n",
    "\n",
    "print(f\"row difference =\\n{B}\")"
   ]
  },
  {
   "cell_type": "code",
   "execution_count": null,
   "id": "29e9c283-141e-4ab7-84e3-c8a49128ea5f",
   "metadata": {
    "tags": []
   },
   "outputs": [],
   "source": [
    "# Transpose of an array\n",
    "\n",
    "A = np.array( [[ 0, 1, 2],\n",
    "               [ 3, 4, 5],\n",
    "               [ 6, 7, 8]] )\n",
    "\n",
    "B = np.transpose(A)\n",
    "\n",
    "print(f\"transpose =\\n{B}\")"
   ]
  },
  {
   "cell_type": "code",
   "execution_count": null,
   "id": "5e2eaf6d-4ef0-4066-85df-99a8c6d7c7e0",
   "metadata": {
    "tags": []
   },
   "outputs": [],
   "source": [
    "# Contiguous flattend array\n",
    "\n",
    "A = np.array( [[ 0, 1, 2],\n",
    "               [ 3, 4, 5],\n",
    "               [ 6, 7, 8]] )\n",
    "\n",
    "B = np.ravel(A)\n",
    "\n",
    "print(f\"flattened =\\n{B}\")"
   ]
  },
  {
   "cell_type": "code",
   "execution_count": null,
   "id": "e7862b2a-aae5-4032-8d65-fef57ceb5b10",
   "metadata": {
    "tags": []
   },
   "outputs": [],
   "source": [
    "# Repeat values\n",
    "\n",
    "A = np.array( [1,2,3,4,5] )\n",
    "B = np.array( [\"A\", \"B\", \"C\", \"D\", \"E\"] )\n",
    "\n",
    "C = np.repeat(B, A)\n",
    "\n",
    "print(f\"repeated =\\n{C}\")"
   ]
  },
  {
   "cell_type": "code",
   "execution_count": null,
   "id": "5a1ba104-a9cf-454b-bf66-d3a145cf4a9a",
   "metadata": {
    "tags": []
   },
   "outputs": [],
   "source": [
    "# Roll elements in 2D array along columns\n",
    "\n",
    "A = np.array( [[ 0, 1, 2],\n",
    "               [ 3, 4, 5],\n",
    "               [ 6, 7, 8]] )\n",
    "\n",
    "B = np.roll(A, 1, axis=0)\n",
    "\n",
    "print(f\"rolled on columns =\\n{B}\")"
   ]
  },
  {
   "cell_type": "code",
   "execution_count": null,
   "id": "51f5a23a-0a48-4373-b22b-712177fa12cb",
   "metadata": {
    "tags": []
   },
   "outputs": [],
   "source": [
    "# Roll elements in 2D array along rows\n",
    "\n",
    "A = np.array( [[ 0, 1, 2],\n",
    "               [ 3, 4, 5],\n",
    "               [ 6, 7, 8]] )\n",
    "\n",
    "B = np.roll(A, 1, axis=1)\n",
    "\n",
    "print(f\"rolled on rows =\\n{B}\")"
   ]
  },
  {
   "cell_type": "markdown",
   "id": "133f4221-5902-492d-9eee-e738cf67637a",
   "metadata": {},
   "source": [
    "### 2.4.5 Contatenation and stacking"
   ]
  },
  {
   "cell_type": "code",
   "execution_count": null,
   "id": "46235a8f-9364-4c64-96ab-2fc0eceed19e",
   "metadata": {
    "tags": []
   },
   "outputs": [],
   "source": [
    "# Concatenate two 1D arrays into one\n",
    "\n",
    "A = np.array( [0,2,4,6,8] )\n",
    "B = np.array( [1,3,5,7,9] )\n",
    "\n",
    "C = np.concatenate( (A,B) )\n",
    "\n",
    "print(f\"C = {C}\")"
   ]
  },
  {
   "cell_type": "code",
   "execution_count": null,
   "id": "d133d66b-de4e-4a19-b9bb-8f5ce643e6d4",
   "metadata": {
    "tags": []
   },
   "outputs": [],
   "source": [
    "# Concatenate two 2D arrays into one\n",
    "\n",
    "A = np.array( [[ 0, 2],\n",
    "               [ 4, 6],\n",
    "               [ 8,10]] )\n",
    "\n",
    "B = np.array( [[ 1, 3],\n",
    "               [ 5, 7],\n",
    "               [ 9,11]] )\n",
    "\n",
    "# Column-wise\n",
    "C = np.concatenate( (A,B), axis=0)\n",
    "\n",
    "print(f\"C =\\n{C} with axis=0\\n\")\n",
    "\n",
    "# Row-wise\n",
    "\n",
    "C = np.concatenate( (A,B), axis=1)\n",
    "\n",
    "print(f\"C =\\n{C} with axis=1\")"
   ]
  },
  {
   "cell_type": "code",
   "execution_count": null,
   "id": "47b3e78d-2432-477a-84bc-4d9dc829c98e",
   "metadata": {
    "tags": []
   },
   "outputs": [],
   "source": [
    "# Stack horizontally two 1D arrays\n",
    "\n",
    "A = np.array( [0,2,4,6,8] )\n",
    "B = np.array( [1,3,5,7,9] )\n",
    "\n",
    "C = np.hstack( (A,B) )\n",
    "\n",
    "print(f\"horizontal stacking =\\n{C}\")"
   ]
  },
  {
   "cell_type": "code",
   "execution_count": null,
   "id": "c412530e-e662-4c21-9495-06e1f0be6526",
   "metadata": {
    "tags": []
   },
   "outputs": [],
   "source": [
    "# Stack vertically two 1D arrays\n",
    "\n",
    "A = np.array( [0,2,4,6,8] )\n",
    "B = np.array( [1,3,5,7,9] )\n",
    "\n",
    "C = np.vstack( (A,B) )\n",
    "\n",
    "print(f\"vertical stacking =\\n{C}\")"
   ]
  },
  {
   "cell_type": "code",
   "execution_count": null,
   "id": "3f8a1a9b-43f8-4551-b85d-d2f662cf3cab",
   "metadata": {
    "tags": []
   },
   "outputs": [],
   "source": [
    "# Stack column-wise two 1D arrays\n",
    "\n",
    "A = np.array( [0,2,4,6,8] )\n",
    "B = np.array( [1,3,5,7,9] )\n",
    "\n",
    "C = np.stack( (A,B), axis=0)\n",
    "\n",
    "print(f\"column-wise stacking for 1D=\\n{C}\")"
   ]
  },
  {
   "cell_type": "code",
   "execution_count": null,
   "id": "35fa1d86-869f-4151-9205-409503a9e26a",
   "metadata": {
    "tags": []
   },
   "outputs": [],
   "source": [
    "# Stack row-wise two 1D arrays\n",
    "\n",
    "A = np.array( [0,2,4,6,8] )\n",
    "B = np.array( [1,3,5,7,9] )\n",
    "\n",
    "C = np.stack( (A,B), axis=1)\n",
    "\n",
    "print(f\"row-wise stacking for 1D=\\n{C}\")"
   ]
  },
  {
   "cell_type": "code",
   "execution_count": null,
   "id": "27f9e11e-50c2-42c2-bfe9-a2adbc87e52e",
   "metadata": {
    "tags": []
   },
   "outputs": [],
   "source": [
    "# Stack column-wise two 2D arrays\n",
    "\n",
    "A = np.array( [[ 0, 2],\n",
    "               [ 4, 6],\n",
    "               [ 8,10]] )\n",
    "\n",
    "B = np.array( [[ 1, 3],\n",
    "               [ 5, 7],\n",
    "               [ 9,11]] )\n",
    "\n",
    "C = np.stack( (A,B), axis=0)\n",
    "\n",
    "print(f\"column-wise stacking for 2D=\\n{C}\")"
   ]
  },
  {
   "cell_type": "code",
   "execution_count": null,
   "id": "b5305e82-fe4e-4965-a504-85ed2bcb32af",
   "metadata": {
    "tags": []
   },
   "outputs": [],
   "source": [
    "# Stack row-wise two 2D arrays\n",
    "\n",
    "A = np.array( [[ 0, 2],\n",
    "               [ 4, 6],\n",
    "               [ 8,10]] )\n",
    "\n",
    "B = np.array( [[ 1, 3],\n",
    "               [ 5, 7],\n",
    "               [ 9,11]] )\n",
    "\n",
    "C = np.stack( (A,B), axis=1)\n",
    "\n",
    "print(f\"row-wise stacking for 2D=\\n{C}\")"
   ]
  },
  {
   "cell_type": "markdown",
   "id": "f927d683-a1d3-4b87-a47d-ff3b9ee37b2f",
   "metadata": {},
   "source": [
    "> ## Assignment\n",
    ">\n",
    "> What happens when you include a `boolean (True/False)` element in a NumPy array with only `integer` zeros and ones?\n",
    ">\n",
    "> What happens when you include a `float` number in a NumPy array with only `integer` elements?"
   ]
  },
  {
   "cell_type": "code",
   "execution_count": null,
   "id": "9a3b58b9",
   "metadata": {},
   "outputs": [],
   "source": [
    "# Result\n",
    "\n",
    "A = np.array([1, 0, True, False, 1, 0, 1, 0, 1, 0])\n",
    "\n",
    "print(f\"boolean in integers = {A}\")\n",
    "\n",
    "A = np.array([0, 1, 2.0, 3.0, 4, 5, 6, 7, 8, 9])\n",
    "\n",
    "print(f\"float   in integers = {A}\")"
   ]
  }
 ],
 "metadata": {
  "kernelspec": {
   "display_name": "Python 3",
   "language": "python",
   "name": "python3"
  },
  "language_info": {
   "codemirror_mode": {
    "name": "ipython",
    "version": 3
   },
   "file_extension": ".py",
   "mimetype": "text/x-python",
   "name": "python",
   "nbconvert_exporter": "python",
   "pygments_lexer": "ipython3",
   "version": "3.9.7"
  }
 },
 "nbformat": 4,
 "nbformat_minor": 5
}

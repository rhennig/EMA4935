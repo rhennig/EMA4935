{
 "cells": [
  {
   "cell_type": "markdown",
   "id": "cd15bb4c",
   "metadata": {},
   "source": [
    "# PyTorch Library\n",
    "\n",
    "The power of deep learning is enabled by libraries such as PyTorch and TensorFlow that simplify \n",
    "- Synthetic data generation\n",
    "- Defining the machine learning model, loss function and optimizer\n",
    "- Model training loop with gradient descent\n",
    "- Visualization of loss and results\n"
   ]
  },
  {
   "cell_type": "code",
   "execution_count": null,
   "id": "8fdd562b",
   "metadata": {},
   "outputs": [],
   "source": [
    "# Linear Regression with PyTorch\n",
    "# Description: Introductory example for training a linear regression model using PyTorch\n",
    "\n",
    "import torch\n",
    "import torch.nn as nn\n",
    "import matplotlib.pyplot as plt\n",
    "\n",
    "# Set seed for reproducibility\n",
    "torch.manual_seed(42)"
   ]
  },
  {
   "cell_type": "markdown",
   "id": "f28490b5",
   "metadata": {},
   "source": [
    "## 1. Generate synthetic linear data"
   ]
  },
  {
   "cell_type": "code",
   "execution_count": null,
   "id": "361e3ac3",
   "metadata": {},
   "outputs": [],
   "source": [
    "# Generate PyTorch array with data of y = 2*x + 3 + noise\n",
    "X = torch.unsqueeze(torch.linspace(0, 10, 100), dim=1)  # shape: (100, 1)\n",
    "y = 2 * X + 3 + torch.randn(X.size()) * 2\n",
    "\n",
    "plt.scatter(X.numpy(), y.numpy())\n",
    "plt.title(\"Generated data\")\n",
    "plt.xlabel(\"X\")\n",
    "plt.ylabel(\"y\")\n",
    "plt.show()"
   ]
  },
  {
   "cell_type": "markdown",
   "id": "e5654015",
   "metadata": {},
   "source": [
    "## 2. Initialize parameters manually"
   ]
  },
  {
   "cell_type": "code",
   "execution_count": null,
   "id": "045a2dbf",
   "metadata": {},
   "outputs": [],
   "source": [
    "# Initialize weights and bias, note that we set requires_grad=True to track gradients\n",
    "w = torch.randn(1, requires_grad=True)  # weight\n",
    "b = torch.randn(1, requires_grad=True)  # bias"
   ]
  },
  {
   "cell_type": "markdown",
   "id": "db892e23",
   "metadata": {},
   "source": [
    "## 3. Define learning rate"
   ]
  },
  {
   "cell_type": "code",
   "execution_count": null,
   "id": "d7c2c6f5",
   "metadata": {},
   "outputs": [],
   "source": [
    "# Set learning rate and initialize loss history\n",
    "lr = 0.01\n",
    "loss_history = []"
   ]
  },
  {
   "cell_type": "markdown",
   "id": "eb539686",
   "metadata": {},
   "source": [
    "## 4. Training loop"
   ]
  },
  {
   "cell_type": "code",
   "execution_count": null,
   "id": "f13803ec",
   "metadata": {},
   "outputs": [],
   "source": [
    "# Loop over epochs, compute MSE loss function, use backpropagation of the loss function to calculate gradient, and optimize parameters using gradient descent\n",
    "# 4. Training loop\n",
    "epochs = 200\n",
    "for epoch in range(epochs):\n",
    "    # Forward pass: compute predicted y\n",
    "    y_pred = X * w + b\n",
    "\n",
    "    # Compute Mean Squared Error loss\n",
    "    loss = ((y_pred - y) ** 2).mean()\n",
    "    loss_history.append(loss.item())\n",
    "\n",
    "    # Backward pass\n",
    "    loss.backward()\n",
    "\n",
    "    # Update parameters using gradient descent\n",
    "    with torch.no_grad():\n",
    "        w -= lr * w.grad\n",
    "        b -= lr * b.grad\n",
    "\n",
    "    # Zero gradients after update\n",
    "    w.grad.zero_()\n",
    "    b.grad.zero_()\n",
    "\n",
    "    if epoch % 20 == 0:\n",
    "        print(f\"Epoch {epoch}, Loss: {loss.item():.4f}\")"
   ]
  },
  {
   "cell_type": "markdown",
   "id": "26e0a570",
   "metadata": {},
   "source": [
    "## 5. Visualization of loss and results"
   ]
  },
  {
   "cell_type": "code",
   "execution_count": null,
   "id": "547bb595",
   "metadata": {},
   "outputs": [],
   "source": [
    "# Plot the loss curve\n",
    "plt.plot(loss_history)\n",
    "plt.title(\"Training Loss Over Epochs\")\n",
    "plt.xlabel(\"Epoch\")\n",
    "plt.ylabel(\"MSE Loss\")\n",
    "plt.show()"
   ]
  },
  {
   "cell_type": "code",
   "execution_count": null,
   "id": "00044e42",
   "metadata": {},
   "outputs": [],
   "source": [
    "\n",
    "# Plot fitted line\n",
    "predicted = (X * w + b).detach().numpy()\n",
    "plt.scatter(X.numpy(), y.numpy(), label='Data')\n",
    "plt.plot(X.numpy(), predicted, color='red', label='Fitted line')\n",
    "plt.title(\"Manual Linear Fit with PyTorch\")\n",
    "plt.legend()\n",
    "plt.show()"
   ]
  },
  {
   "cell_type": "code",
   "execution_count": null,
   "id": "7ec738c7",
   "metadata": {},
   "outputs": [],
   "source": [
    "\n",
    "# View learned parameters\n",
    "print(\"Learned weight:\", w.item())\n",
    "print(\"Learned bias:\", b.item())"
   ]
  },
  {
   "cell_type": "markdown",
   "id": "4c79875c",
   "metadata": {},
   "source": [
    "> ### Assignment\n",
    "> 1. Change the learning rate (decrease and increase by about an order of magnitude) and observe how it affects the convergence of the model.\n",
    "> 2. Increase the number of epochs and observe the effect on the loss curve.\n"
   ]
  },
  {
   "cell_type": "code",
   "execution_count": null,
   "id": "0593f582",
   "metadata": {},
   "outputs": [],
   "source": []
  }
 ],
 "metadata": {
  "kernelspec": {
   "display_name": "base",
   "language": "python",
   "name": "python3"
  },
  "language_info": {
   "codemirror_mode": {
    "name": "ipython",
    "version": 3
   },
   "file_extension": ".py",
   "mimetype": "text/x-python",
   "name": "python",
   "nbconvert_exporter": "python",
   "pygments_lexer": "ipython3",
   "version": "3.12.2"
  }
 },
 "nbformat": 4,
 "nbformat_minor": 5
}

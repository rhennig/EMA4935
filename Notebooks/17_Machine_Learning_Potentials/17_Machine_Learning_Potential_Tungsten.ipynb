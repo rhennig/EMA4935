{
 "cells": [
  {
   "cell_type": "markdown",
   "metadata": {},
   "source": [
    "# Machine Learning Potentials and Molecular Dynamics Simulations for Materials Science\n",
    "\n",
    "## Introduction: Empirical Potentials and Molecular Dynamics\n",
    "\n",
    "Molecular dynamics (MD) simulations are a cornerstone of computational materials science, enabling us to model the time evolution of atoms based on classical mechanics. The trajectory of each atom is computed by solving Newton's equations of motion:\n",
    "\n",
    "$$\n",
    "F = m\\, a,\n",
    "$$\n",
    "where the force is given by the gradient of the potential energy, $U$, with respect to the coordinate, $\\vec r_i$ of each atom $i$.\n",
    "\n",
    "Hence,\n",
    "$$\n",
    "-\\nabla_{\\mathbf{r}_i} U(\\mathbf{r}_1, \\dots, \\mathbf{r}_N) = m_i \\frac{d^2\\mathbf{r}_i}{dt^2}\n",
    "$$\n",
    "\n",
    "### A Brief History of Potentials\n",
    "\n",
    "- **1930s–1960s**: Early MD simulations used hard-sphere or Lennard-Jones (LJ) potentials.\n",
    "- **1970s–1980s**: Development of many-body potentials like **Embedded Atom Method (EAM)** and **Tersoff**.\n",
    "- **1990s–2010s**: Reactive force fields (ReaxFF) and tight-binding approaches added chemical reactivity.\n",
    "- **2020s–now**: Machine learning potentials (MLPs) like **GAP**, **NequIP**, and **UF3** offer near-quantum mechanical accuracy."
   ]
  },
  {
   "cell_type": "markdown",
   "metadata": {},
   "source": [
    "### Why Machine Learning Potentials?\n",
    "\n",
    "Machine-learned interatomic potentials interpolate the quantum mechanical potential energy surface (described by density functional theory or DFT) using high-dimensional, non-linear functions:\n",
    "- The goal is for the accuracy of MLIPs to approach that of DFT while being as fast like empirical force fields.\n",
    "- Applicable to large-scale MD for melting, diffusion, and phase transitions.\n",
    "\n",
    "In this notebook, we train a UF3 model for tungsten and use it to simulate melting with LAMMPS."
   ]
  },
  {
   "cell_type": "code",
   "execution_count": null,
   "metadata": {
    "ExecuteTime": {
     "end_time": "2022-07-23T21:53:37.812262Z",
     "start_time": "2022-07-23T21:53:37.802719Z"
    },
    "pycharm": {
     "name": "#%%\n"
    }
   },
   "outputs": [],
   "source": [
    "import os\n",
    "from concurrent.futures import ProcessPoolExecutor"
   ]
  },
  {
   "cell_type": "code",
   "execution_count": null,
   "metadata": {
    "ExecuteTime": {
     "end_time": "2022-07-23T21:53:38.028224Z",
     "start_time": "2022-07-23T21:53:37.813405Z"
    },
    "pycharm": {
     "name": "#%%\n"
    }
   },
   "outputs": [],
   "source": [
    "import numpy as np\n",
    "import matplotlib.pyplot as plt"
   ]
  },
  {
   "cell_type": "code",
   "execution_count": null,
   "metadata": {},
   "outputs": [],
   "source": [
    "# Uncomment and run if not already installed\n",
    "\n",
    "# Install UF3\n",
    "#!pip install uf3@monk04-patch-3\n",
    "\n",
    "# Install LAMMPS with UF3 support"
   ]
  },
  {
   "cell_type": "code",
   "execution_count": null,
   "metadata": {
    "ExecuteTime": {
     "end_time": "2022-07-23T21:53:39.025122Z",
     "start_time": "2022-07-23T21:53:38.029366Z"
    },
    "pycharm": {
     "name": "#%%\n"
    }
   },
   "outputs": [],
   "source": [
    "from uf3.data import io\n",
    "from uf3.data import geometry\n",
    "from uf3.data import composition\n",
    "from uf3.representation import bspline\n",
    "from uf3.representation import process\n",
    "from uf3.regression import least_squares\n",
    "from uf3.forcefield import calculator\n",
    "from uf3.forcefield import lammps\n",
    "from uf3.util import parallel\n",
    "from uf3.util import plotting\n",
    "from uf3.util import plotting3d\n",
    "from uf3.util import plot_slices_3b"
   ]
  },
  {
   "cell_type": "markdown",
   "metadata": {},
   "source": [
    "# $\\text{UF}_{2,3}$ Demo: Elemental tungsten"
   ]
  },
  {
   "cell_type": "markdown",
   "metadata": {},
   "source": [
    "**Data split**\n",
    "- Training set: 1939 configurations (stratified 20% of the dataset)\n",
    "\n",
    "- Holdout: 7754 configurations (remaining 80%)"
   ]
  },
  {
   "cell_type": "markdown",
   "metadata": {},
   "source": [
    "**Inputs**\n",
    "- ```w-14.xyz``` (30 mb)\n",
    "- ```training_idx.txt``` (10 kb, included for reproducibility purposes)"
   ]
  },
  {
   "cell_type": "markdown",
   "metadata": {},
   "source": [
    "**Outputs**\n",
    "- ```df_features_uf23.h5``` (650 mb)\n",
    "- ```model_uf23.json``` (3 kb)"
   ]
  },
  {
   "cell_type": "code",
   "execution_count": null,
   "metadata": {
    "ExecuteTime": {
     "end_time": "2022-07-23T21:53:39.031599Z",
     "start_time": "2022-07-23T21:53:39.026642Z"
    }
   },
   "outputs": [],
   "source": [
    "%%html\n",
    "<style>\n",
    "  table {margin-left: 0 !important;}\n",
    "</style>"
   ]
  },
  {
   "cell_type": "markdown",
   "metadata": {
    "ExecuteTime": {
     "end_time": "2021-09-27T14:23:57.821312Z",
     "start_time": "2021-09-27T14:23:57.818248Z"
    }
   },
   "source": [
    " Step         | Estimated Time \n",
    ":-------------|:--------------\n",
    "Preprocessing | 10 seconds\n",
    "Featurization | 30 core-minutes (parallelizable)\n",
    "Training      | 4 seconds\n",
    "Prediction    | 3 seconds\n",
    "Plotting      | 5 seconds"
   ]
  },
  {
   "cell_type": "markdown",
   "metadata": {
    "pycharm": {
     "name": "#%% md\n"
    }
   },
   "source": [
    "# User Parameters\n",
    "\n",
    "```element_list (list)```: list of element symbols\n",
    "\n",
    "```degree (int)```: truncation of many-body expansion. A value of 3 yields a two-and-three-body potential."
   ]
  },
  {
   "cell_type": "code",
   "execution_count": null,
   "metadata": {
    "ExecuteTime": {
     "end_time": "2022-07-23T21:53:39.035598Z",
     "start_time": "2022-07-23T21:53:39.033138Z"
    },
    "pycharm": {
     "name": "#%%\n"
    }
   },
   "outputs": [],
   "source": [
    "element_list = ['W']\n",
    "degree = 3"
   ]
  },
  {
   "cell_type": "markdown",
   "metadata": {},
   "source": [
    "Initialize the ```ChemicalSystem``` and inspect interactions.\n",
    "\n",
    "Elements involved in each interactions are sorted by electronegativity."
   ]
  },
  {
   "cell_type": "code",
   "execution_count": null,
   "metadata": {
    "ExecuteTime": {
     "end_time": "2022-07-23T21:53:39.042050Z",
     "start_time": "2022-07-23T21:53:39.037432Z"
    }
   },
   "outputs": [],
   "source": [
    "chemical_system = composition.ChemicalSystem(element_list=element_list,\n",
    "                                             degree=degree)\n",
    "print(chemical_system)"
   ]
  },
  {
   "cell_type": "code",
   "execution_count": null,
   "metadata": {
    "ExecuteTime": {
     "end_time": "2022-07-23T21:53:39.046756Z",
     "start_time": "2022-07-23T21:53:39.043530Z"
    }
   },
   "outputs": [],
   "source": [
    "print(\"Trios:\", chemical_system.interactions_map[3])"
   ]
  },
  {
   "cell_type": "markdown",
   "metadata": {},
   "source": [
    "# Selecting cutoffs"
   ]
  },
  {
   "cell_type": "markdown",
   "metadata": {},
   "source": [
    "```r_min_map (dict)```: map of minimum pair distance per interaction (angstroms). \n",
    "    If unspecified, defaults to 1.0 for all interactions.\n",
    "    \n",
    "```r_max_map (dict)```: map of maximum pair distance per interaction (angstroms). \n",
    "    If unspecified, defaults to 6.0 angstroms for all interactions, which probably encompasses at least 2nd-nearest neighbors.\n",
    "    \n",
    "```resolution_map (dict)```: map of resolution (number of knot intervals) per interaction. \n",
    "    For the cubic basis, the number of basis functions equals three more than the number of knot intervals.\n",
    "    This is, in turn, negated by ```trailing_trim```.\n",
    "    If unspecified, defaults to 20 for all two-body interactions and 5 for three-body interactions.\n",
    "    \n",
    "```trailing_trim (int)```: number of trailing basis functions to trim, defaults to 3.\n",
    " - ```= 0```: hard cutoff at ```r_max```\n",
    " - ```= 1```: function goes to zero at ```r_max```\n",
    " - ```= 2```: first derivative goes to zero at ```r_max```\n",
    " - ```= 3```: second derivative goes to zero at ```r_max```\n",
    " \n",
    "```leading_trim (int)```: similar for leading basis functions (small distances), defaults to 0 for 2-body and 3 for 3-body"
   ]
  },
  {
   "cell_type": "markdown",
   "metadata": {},
   "source": [
    "**Note: the demo's resolution and cutoffs (3.5-3.5-7.0Å, 6-6-12) are small to reduce runtime and filesize.**\n",
    "\n",
    "**Results in the manuscript use (4.25-4.25-8.5Å, 10-10-20), requiring about 20 core-minutes and 6 gb.**"
   ]
  },
  {
   "cell_type": "markdown",
   "metadata": {
    "ExecuteTime": {
     "end_time": "2022-07-22T04:26:22.686227Z",
     "start_time": "2022-07-22T04:26:22.680548Z"
    }
   },
   "source": [
    "## Sensible values can be chosen based on the results from the two-body demo.\n",
    "**r_min and r_max should span the region near the two-body potential minimum\n",
    "and any inflection points.**\n",
    "\n",
    "**High values for r_max increase the size of neighbor lists and slows down calculations.\n",
    "Sensible values for r_max for the two-body terms can be quickly estimated\n",
    "through grid-search in the two-body demo.**\n",
    "\n",
    "**r_max for the three-body can be slightly lower based on the assumption that\n",
    "higher-order terms are most important for nearest neighbors.**"
   ]
  },
  {
   "cell_type": "code",
   "execution_count": null,
   "metadata": {
    "ExecuteTime": {
     "end_time": "2022-07-23T21:53:39.051052Z",
     "start_time": "2022-07-23T21:53:39.047873Z"
    },
    "pycharm": {
     "name": "#%%\n"
    }
   },
   "outputs": [],
   "source": [
    "r_min_map = {(\"W\", \"W\"): 0.001,\n",
    "             (\"W\", \"W\", \"W\"): [1.0, 1.0, 1.0],\n",
    "            }\n",
    "r_max_map = {(\"W\", \"W\"): 5.5,\n",
    "             (\"W\", \"W\", \"W\"): [3.5, 3.5, 7.0],\n",
    "            }\n",
    "resolution_map = {(\"W\", \"W\"): 15,\n",
    "                  (\"W\", \"W\", \"W\"): [9, 9, 12],\n",
    "                 }\n",
    "#trailing_trim = {2: 3, 3: 3}  # 3 for 2-body, 3 for 3-body\n",
    "#leading_trim = {2: 0, 3: 3}  # 0 for 2-body, 3 for 3-body\n",
    "\n",
    "trailing_trim = 3  # 3 for 2-body, 3 for 3-body\n",
    "leading_trim =  0  # 0 for 2-body, 3 for 3-body\n",
    "\n",
    "# Integer values are also accepted for the trim parameters, in which case the\n",
    "# same value is used for both 2-body and 3-body."
   ]
  },
  {
   "cell_type": "markdown",
   "metadata": {},
   "source": [
    "# Demo parameters\n",
    "```n_cores```: number of workers to use in parallel for feature generation\n",
    "\n",
    "```data_filename```: filename of reference data including geometries, energies, forces, ...\n",
    "\n",
    "```filename```: filename to save features dataframe.\n",
    "\n",
    "```table_template```: format string for table names in feature dataframe."
   ]
  },
  {
   "cell_type": "code",
   "execution_count": null,
   "metadata": {
    "ExecuteTime": {
     "end_time": "2022-07-23T21:53:39.054446Z",
     "start_time": "2022-07-23T21:53:39.052182Z"
    }
   },
   "outputs": [],
   "source": [
    "n_cores = os.cpu_count()\n",
    "print(\"Number of cores:\", n_cores)"
   ]
  },
  {
   "cell_type": "code",
   "execution_count": null,
   "metadata": {
    "ExecuteTime": {
     "end_time": "2022-07-23T21:53:39.059191Z",
     "start_time": "2022-07-23T21:53:39.056142Z"
    }
   },
   "outputs": [],
   "source": [
    "example_directory = os.getcwd()\n",
    "data_filename = os.path.join(example_directory, \"w-14.xyz\")"
   ]
  },
  {
   "cell_type": "code",
   "execution_count": null,
   "metadata": {
    "ExecuteTime": {
     "end_time": "2022-07-23T21:53:39.061948Z",
     "start_time": "2022-07-23T21:53:39.060159Z"
    }
   },
   "outputs": [],
   "source": [
    "filename = \"df_features.h5\"\n",
    "table_template = \"features_{}\""
   ]
  },
  {
   "cell_type": "markdown",
   "metadata": {},
   "source": [
    "# Initialize basis"
   ]
  },
  {
   "cell_type": "code",
   "execution_count": null,
   "metadata": {
    "ExecuteTime": {
     "end_time": "2022-07-23T21:53:39.070028Z",
     "start_time": "2022-07-23T21:53:39.062762Z"
    }
   },
   "outputs": [],
   "source": [
    "bspline_config = bspline.BSplineBasis(chemical_system,\n",
    "                                      r_min_map=r_min_map,\n",
    "                                      r_max_map=r_max_map,\n",
    "                                      resolution_map=resolution_map,\n",
    "                                      leading_trim=leading_trim,\n",
    "                                      trailing_trim=trailing_trim)"
   ]
  },
  {
   "cell_type": "markdown",
   "metadata": {},
   "source": [
    "```bspline_config.get_interaction_partitions()``` yields the number of coefficients for each n-body interaction (one-body terms, two-body terms, three-body terms, ...) as well as the starting index in the coefficient vector for each interaction."
   ]
  },
  {
   "cell_type": "code",
   "execution_count": null,
   "metadata": {
    "ExecuteTime": {
     "end_time": "2022-07-23T21:53:39.074028Z",
     "start_time": "2022-07-23T21:53:39.070927Z"
    }
   },
   "outputs": [],
   "source": [
    "bspline_config.get_interaction_partitions()[0]"
   ]
  },
  {
   "cell_type": "code",
   "execution_count": null,
   "metadata": {
    "ExecuteTime": {
     "end_time": "2022-07-23T21:53:39.078052Z",
     "start_time": "2022-07-23T21:53:39.074905Z"
    }
   },
   "outputs": [],
   "source": [
    "bspline_config.get_interaction_partitions()[1]"
   ]
  },
  {
   "cell_type": "markdown",
   "metadata": {
    "pycharm": {
     "name": "#%% md\n"
    }
   },
   "source": [
    "# Load data"
   ]
  },
  {
   "cell_type": "code",
   "execution_count": null,
   "metadata": {
    "ExecuteTime": {
     "end_time": "2022-07-23T21:53:49.736244Z",
     "start_time": "2022-07-23T21:53:39.079127Z"
    },
    "pycharm": {
     "name": "#%%\n"
    }
   },
   "outputs": [],
   "source": [
    "data_coordinator = io.DataCoordinator()\n",
    "data_coordinator.dataframe_from_trajectory(data_filename,\n",
    "                                           prefix='dft')\n",
    "df_data = data_coordinator.consolidate()\n",
    "print(\"Number of energies:\", len(df_data))\n",
    "print(\"Number of forces:\", int(np.sum(df_data[\"size\"]) * 3))"
   ]
  },
  {
   "cell_type": "code",
   "execution_count": null,
   "metadata": {
    "ExecuteTime": {
     "end_time": "2022-07-23T21:53:49.752443Z",
     "start_time": "2022-07-23T21:53:49.737272Z"
    },
    "pycharm": {
     "name": "#%%\n"
    }
   },
   "outputs": [],
   "source": [
    "df_data.head()"
   ]
  },
  {
   "cell_type": "code",
   "execution_count": null,
   "metadata": {},
   "outputs": [],
   "source": [
    "# Remove all the data of size 1 as they copntain no forces and this results in an error in the current UF3 implementation\n",
    "df_data = df_data[df_data[\"size\"] > 1]\n",
    "df_data = df_data.reset_index(drop=True)\n",
    "print(\"Number of energies:\", len(df_data))\n",
    "print(\"Number of forces:\", int(np.sum(df_data[\"size\"]) * 3))\n",
    "df_data.tail()"
   ]
  },
  {
   "cell_type": "markdown",
   "metadata": {
    "ExecuteTime": {
     "end_time": "2022-07-22T04:19:58.731541Z",
     "start_time": "2022-07-22T04:19:58.721639Z"
    }
   },
   "source": [
    "# Examine pair distance distribution\n",
    "Useful step that serves as a sanity check for selected cutoffs and resolution."
   ]
  },
  {
   "cell_type": "code",
   "execution_count": null,
   "metadata": {
    "ExecuteTime": {
     "end_time": "2022-07-23T21:53:49.794214Z",
     "start_time": "2022-07-23T21:53:49.753787Z"
    }
   },
   "outputs": [],
   "source": [
    "from uf3.data import analyze\n",
    "from tqdm.auto import tqdm"
   ]
  },
  {
   "cell_type": "code",
   "execution_count": null,
   "metadata": {
    "ExecuteTime": {
     "end_time": "2022-07-23T21:53:49.798407Z",
     "start_time": "2022-07-23T21:53:49.795195Z"
    }
   },
   "outputs": [],
   "source": [
    "analyzer = analyze.DataAnalyzer(chemical_system, \n",
    "                                r_cut=10.0,\n",
    "                                bins=0.01)"
   ]
  },
  {
   "cell_type": "code",
   "execution_count": null,
   "metadata": {
    "ExecuteTime": {
     "end_time": "2022-07-23T21:53:57.005550Z",
     "start_time": "2022-07-23T21:53:49.799459Z"
    }
   },
   "outputs": [],
   "source": [
    "atoms_key = data_coordinator.atoms_key\n",
    "histogram_slice = np.random.choice(np.arange(len(df_data)),\n",
    "                                   min(1000, len(df_data)),\n",
    "                                   replace=False)\n",
    "df_slice = df_data[atoms_key].iloc[histogram_slice]\n",
    "analyzer.load_entries(df_slice)"
   ]
  },
  {
   "cell_type": "code",
   "execution_count": null,
   "metadata": {
    "ExecuteTime": {
     "end_time": "2022-07-23T21:53:57.031563Z",
     "start_time": "2022-07-23T21:53:57.006670Z"
    }
   },
   "outputs": [],
   "source": [
    "analysis = analyzer.analyze()"
   ]
  },
  {
   "cell_type": "code",
   "execution_count": null,
   "metadata": {
    "ExecuteTime": {
     "end_time": "2022-07-23T21:53:58.498688Z",
     "start_time": "2022-07-23T21:53:57.032889Z"
    }
   },
   "outputs": [],
   "source": [
    "canvases = plotting.plot_pair_distributions(analysis, show_cutoffs=False, figsize=(3.5, 1.5))\n",
    "for fig, ax in canvases:\n",
    "    fig.set_dpi(120)\n",
    "    fig.tight_layout()\n",
    "    ax.set_ylabel(\"\")\n",
    "    # fig.show()"
   ]
  },
  {
   "cell_type": "markdown",
   "metadata": {
    "pycharm": {
     "name": "#%% md\n"
    }
   },
   "source": [
    "# Compute energy and force features\n",
    "\n"
   ]
  },
  {
   "cell_type": "code",
   "execution_count": null,
   "metadata": {
    "ExecuteTime": {
     "end_time": "2022-07-23T20:14:27.388958Z",
     "start_time": "2022-07-23T20:14:27.386315Z"
    }
   },
   "outputs": [],
   "source": [
    "representation = process.BasisFeaturizer(bspline_config)"
   ]
  },
  {
   "cell_type": "code",
   "execution_count": null,
   "metadata": {
    "ExecuteTime": {
     "end_time": "2022-07-23T20:14:27.392736Z",
     "start_time": "2022-07-23T20:14:27.390071Z"
    }
   },
   "outputs": [],
   "source": [
    "client = ProcessPoolExecutor(max_workers=n_cores)"
   ]
  },
  {
   "cell_type": "code",
   "execution_count": null,
   "metadata": {
    "ExecuteTime": {
     "end_time": "2022-07-23T20:14:27.662532Z",
     "start_time": "2022-07-23T20:14:27.393768Z"
    }
   },
   "outputs": [],
   "source": [
    "representation.batched_to_hdf(filename,\n",
    "                              df_data,\n",
    "                              client,\n",
    "                              n_jobs = n_cores,\n",
    "                              batch_size=50,\n",
    "                              progress=\"bar\",\n",
    "                              table_template=table_template)"
   ]
  },
  {
   "cell_type": "markdown",
   "metadata": {
    "ExecuteTime": {
     "start_time": "2021-09-27T03:31:28.871Z"
    }
   },
   "source": [
    "# Fit model"
   ]
  },
  {
   "cell_type": "markdown",
   "metadata": {},
   "source": [
    "### Split data into training and testing set"
   ]
  },
  {
   "cell_type": "code",
   "execution_count": null,
   "metadata": {},
   "outputs": [],
   "source": [
    "# create training and test index using a random split\n",
    "\n",
    "train_index = np.random.choice(df_data.index, size=int(len(df_data) * 0.8), replace=False)\n",
    "test_index = np.array(list(set(df_data.index) - set(train_index)))\n",
    "train_index = np.sort(train_index)\n",
    "test_index = np.sort(test_index)\n",
    "print(\"Number of training points:\", len(train_index))\n",
    "print(\"Number of test points:\", len(test_index))\n",
    "print(\"Number of training forces:\", int(np.sum(df_data.loc[train_index][\"size\"]) * 3))\n",
    "print(\"Number of test forces:\", int(np.sum(df_data.loc[test_index][\"size\"]) * 3))"
   ]
  },
  {
   "cell_type": "markdown",
   "metadata": {},
   "source": [
    "### Regularized linear regression"
   ]
  },
  {
   "cell_type": "code",
   "execution_count": null,
   "metadata": {
    "ExecuteTime": {
     "end_time": "2022-07-23T20:14:27.684781Z",
     "start_time": "2022-07-23T20:14:27.663796Z"
    }
   },
   "outputs": [],
   "source": [
    "regularizer = bspline_config.get_regularization_matrix(ridge_1b=0.0,\n",
    "                                                       ridge_2b=0.0,\n",
    "                                                       ridge_3b=1e-8,\n",
    "                                                       curvature_2b=1e-8,\n",
    "                                                       curvature_3b=0.0)\n",
    "\n",
    "model = least_squares.WeightedLinearModel(bspline_config,\n",
    "                                          regularizer=regularizer)"
   ]
  },
  {
   "cell_type": "markdown",
   "metadata": {},
   "source": [
    "# Fit with energies and force"
   ]
  },
  {
   "cell_type": "markdown",
   "metadata": {},
   "source": [
    "Train with the training index that includes 80% of the dataset"
   ]
  },
  {
   "cell_type": "code",
   "execution_count": null,
   "metadata": {
    "ExecuteTime": {
     "end_time": "2022-07-23T20:14:31.307364Z",
     "start_time": "2022-07-23T20:14:27.686239Z"
    }
   },
   "outputs": [],
   "source": [
    "model.fit_from_file(filename, \n",
    "                    df_data.index[train_index],\n",
    "                    weight=0.8, \n",
    "                    batch_size=2500,\n",
    "                    energy_key=\"energy\", \n",
    "                    progress=\"bar\")"
   ]
  },
  {
   "cell_type": "code",
   "execution_count": null,
   "metadata": {
    "ExecuteTime": {
     "end_time": "2022-07-23T20:14:31.447058Z",
     "start_time": "2022-07-23T20:14:31.308558Z"
    }
   },
   "outputs": [],
   "source": [
    "pair = (\"W\", \"W\")\n",
    "\n",
    "r_target = analysis[\"lower_bounds\"][pair]\n",
    "model.fix_repulsion_2b(pair, \n",
    "                       r_target=r_target,\n",
    "                       min_curvature=0.0)\n",
    "\n",
    "solutions = least_squares.arrange_coefficients(model.coefficients,\n",
    "                                               bspline_config)\n",
    "coefficients = solutions[(\"W\", \"W\")]\n",
    "knot_sequence = bspline_config.knots_map[(\"W\", \"W\")]\n",
    "fig, ax = plotting.visualize_splines(coefficients, knot_sequence)\n",
    "plt.vlines([0.0], -100, 100, color=\"orange\", linewidth=2)\n",
    "ax.set_ylim(-0.8, 0.8)"
   ]
  },
  {
   "cell_type": "code",
   "execution_count": null,
   "metadata": {},
   "outputs": [],
   "source": [
    "fig, gs = plot_slices_3b.plot_slices(model, ('W','W','W'),\n",
    "                                     thetas=(45, 60, 90, 120, 180),\n",
    "                                     vmin=-0.6, vmax=0.6)"
   ]
  },
  {
   "cell_type": "code",
   "execution_count": null,
   "metadata": {
    "ExecuteTime": {
     "end_time": "2022-07-23T20:14:31.872521Z",
     "start_time": "2022-07-23T20:14:31.450397Z"
    }
   },
   "outputs": [],
   "source": [
    "tbp = plotting3d.ThreeBodyPlotter(model, (\"W\", \"W\", \"W\"))\n",
    "tbp.sample_uniformly(20)\n",
    "tbp.plot_uniform(val_limit=0.1)"
   ]
  },
  {
   "cell_type": "markdown",
   "metadata": {
    "ExecuteTime": {
     "end_time": "2021-09-27T04:15:40.920319Z",
     "start_time": "2021-09-27T04:15:40.917610Z"
    }
   },
   "source": [
    "# Prediction"
   ]
  },
  {
   "cell_type": "code",
   "execution_count": null,
   "metadata": {
    "ExecuteTime": {
     "end_time": "2022-07-23T20:15:14.110104Z",
     "start_time": "2022-07-23T20:15:11.597528Z"
    }
   },
   "outputs": [],
   "source": [
    "y_e, p_e, y_f, p_f, rmse_e, rmse_f = model.batched_predict(filename, \n",
    "                                                           keys=test_index)"
   ]
  },
  {
   "cell_type": "code",
   "execution_count": null,
   "metadata": {
    "ExecuteTime": {
     "end_time": "2022-07-23T20:15:14.454770Z",
     "start_time": "2022-07-23T20:15:14.111436Z"
    }
   },
   "outputs": [],
   "source": [
    "plotting.density_scatter(y_e, p_e)\n",
    "plt.tight_layout()"
   ]
  },
  {
   "cell_type": "code",
   "execution_count": null,
   "metadata": {
    "ExecuteTime": {
     "end_time": "2022-07-23T20:15:23.486649Z",
     "start_time": "2022-07-23T20:15:14.455801Z"
    }
   },
   "outputs": [],
   "source": [
    "plotting.density_scatter(y_f, p_f)\n",
    "plt.tight_layout()"
   ]
  },
  {
   "cell_type": "markdown",
   "metadata": {},
   "source": [
    "## Export UF3 potential for LAMMPS"
   ]
  },
  {
   "cell_type": "code",
   "execution_count": null,
   "metadata": {},
   "outputs": [],
   "source": [
    "# Save model in json file\n",
    "model.to_json(\"tungsten.json\")\n",
    "\n",
    "# Call Python code \"generate_uf3_lammps_pots.py\" to generate the LAMMPS potential files\n",
    "\n",
    "!python generate_uf3_lammps_pots.py \\\n",
    "    --author AI4Materials \\\n",
    "    --units metal \\\n",
    "    --model tungsten.json \\\n",
    "    --directory ./ \\\n",
    "    --knots_spacing_type nk\n",
    "\n",
    "# Replace \"{2: 0, 3: 0} {2: 3, 3: 3}\"\" in lines 6 and 9 with \"0 3\" in file W.uf3\n",
    "import re\n",
    "with open('W.uf3', 'r') as f:\n",
    "    content = f.read()\n",
    "\n",
    "# Replace all occurrences of the exact pattern\n",
    "content = re.sub(r\"\\{2: 0, 3: 0\\} \\{2: 3, 3: 3\\}\", \"0 3\", content)\n",
    "\n",
    "with open('W.uf3', 'w') as f:\n",
    "    f.write(content)"
   ]
  },
  {
   "cell_type": "markdown",
   "metadata": {
    "pycharm": {
     "name": "#%% md\n"
    }
   },
   "source": [
    "## Perform molecular dynamics simulation using LAMMPS"
   ]
  },
  {
   "cell_type": "markdown",
   "metadata": {},
   "source": [
    "### Installing LAMMPS with ML-UF3 in a Miniconda Environment\n",
    "\n",
    "This guide explains how to build and run LAMMPS with the `ML-UF3` package enabled inside an existing **Miniconda environment**. This is ideal for users who already manage Python ML tools via Conda and want to extend their workflows to LAMMPS simulations.\n",
    "\n",
    "---\n",
    "\n",
    "#### Step 1: Activate Your Miniconda Environment\n",
    "\n",
    "Open your terminal or VS Code integrated terminal and activate your existing environment:\n",
    "\n",
    "- conda activate your-env-name\n",
    "\n",
    "---\n",
    "#### Step 2: Install Build Tools and Compilers\n",
    "\n",
    "Install the necessary packages from conda-forge:\n",
    "- conda install -c conda-forge cmake make\n",
    "- conda install -c conda-forge compilers\n",
    "- conda install -c conda-forge fftw blas\n",
    "\n",
    "These provide:\n",
    "- cmake – build system\n",
    "- make – build tool\n",
    "- gcc, g++, gfortran – C/C++/Fortran compilers\n",
    "- FFT and BLAS libraries for performance\n",
    "\n",
    "---\n",
    "#### Step 3: Clone and Build LAMMPS with ML-UF3\n",
    "- git clone https://github.com/lammps/lammps.git\n",
    "- cd lammps\n",
    "- mkdir build && cd build\n",
    "\n",
    "Now configure with CMake, ensuring that ML-UF3 is enabled:\n",
    "- cmake ../cmake \\\n",
    "  -D CMAKE_INSTALL_PREFIX=$HOME/lammps-conda \\\n",
    "  -D CMAKE_PREFIX_PATH=$CONDA_PREFIX \\\n",
    "  -D BUILD_MPI=OFF \\\n",
    "  -D BUILD_SHARED_LIBS=OFF \\\n",
    "  -D PKG_ML-UF3=ON \\\n",
    "  -D PKG_USER-MLIAP=ON \\\n",
    "  -D PKG_ML-SNAP=OFF \\\n",
    "  -D PKG_ML-IAP=OFF\n",
    "\n",
    "Then build and install:\n",
    "- make -j$(nproc)\n",
    "- make install\n",
    "\n",
    "Verify that LAMMPS was built with UF3 support:\n",
    "- $HOME/lammps-conda/bin/lmp -h | grep ML-UF3"
   ]
  },
  {
   "cell_type": "code",
   "execution_count": null,
   "metadata": {},
   "outputs": [],
   "source": [
    "# Create BCC tungsten 5x5x5 supercell\n",
    "# Experimental Lattice constant for BCC tungsten in angstroms\n",
    "a0 = 3.165\n",
    "\n",
    "def create_bcc_supercell(a0, nx, ny, nz):\n",
    "    # Basis atoms for BCC unit cell\n",
    "    basis = np.array([\n",
    "        [0.0, 0.0, 0.0],\n",
    "        [0.5, 0.5, 0.5]\n",
    "    ])\n",
    "\n",
    "    positions = []\n",
    "    for i in range(nx):\n",
    "        for j in range(ny):\n",
    "            for k in range(nz):\n",
    "                for atom in basis:\n",
    "                    pos = a0 * (atom + [i, j, k])\n",
    "                    positions.append(pos)\n",
    "    return np.array(positions)\n",
    "\n",
    "positions = create_bcc_supercell(a0, 5, 5, 5)\n",
    "n_atoms = len(positions)\n",
    "print(f\"Generated {n_atoms} atoms.\")"
   ]
  },
  {
   "cell_type": "code",
   "execution_count": null,
   "metadata": {},
   "outputs": [],
   "source": [
    "def write_lammps_data(filename, positions, a0, nx, ny, nz):\n",
    "    with open(filename, \"w\") as f:\n",
    "        f.write(\"LAMMPS data file for BCC tungsten 5x5x5 supercell\\n\\n\")\n",
    "        f.write(f\"{len(positions)} atoms\\n\")\n",
    "        f.write(\"1 atom types\\n\\n\")\n",
    "\n",
    "        lx = nx * a0\n",
    "        ly = ny * a0\n",
    "        lz = nz * a0\n",
    "        f.write(f\"0.0 {lx:.6f} xlo xhi\\n\")\n",
    "        f.write(f\"0.0 {ly:.6f} ylo yhi\\n\")\n",
    "        f.write(f\"0.0 {lz:.6f} zlo zhi\\n\\n\")\n",
    "\n",
    "        f.write(\"Masses\\n\\n\")\n",
    "        f.write(\"1 183.84\\n\\n\")  # Atomic mass of W\n",
    "\n",
    "        f.write(\"Atoms\\n\\n\")\n",
    "        for i, pos in enumerate(positions, start=1):\n",
    "            f.write(f\"{i} 1 {pos[0]:.6f} {pos[1]:.6f} {pos[2]:.6f}\\n\")\n",
    "\n",
    "write_lammps_data(\"tungsten.data\", positions, a0, 5, 5, 5)\n",
    "print(\"LAMMPS data file written to 'tungsten.data'\")"
   ]
  },
  {
   "cell_type": "code",
   "execution_count": null,
   "metadata": {
    "ExecuteTime": {
     "end_time": "2022-07-23T20:15:23.493613Z",
     "start_time": "2022-07-23T20:15:23.488133Z"
    }
   },
   "outputs": [],
   "source": [
    "# Create LAMMPS input file for melting test            \n",
    "with open(\"melting_test.in\", \"w\") as f:\n",
    "    f.write(\"\"\"units metal\n",
    "atom_style atomic\n",
    "read_data tungsten.data\n",
    "\n",
    "pair_style\tuf3 3\n",
    "pair_coeff\t* * ./W.uf3 W\n",
    "            \n",
    "# Define thermo output\n",
    "thermo          100\n",
    "thermo_style    custom step temp pe etotal press vol\n",
    "\n",
    "# Minimization (relax atoms and box)\n",
    "reset_timestep  0\n",
    "fix 1 all box/relax iso 0.0 vmax 0.001\n",
    "min_style       cg\n",
    "minimize        1.0e-10 1.0e-10 10000 100000\n",
    "unfix           1\n",
    "\n",
    "# Equilibration at 3000 K\n",
    "velocity        all create 6000.0 12345 mom yes rot no dist gaussian\n",
    "fix             equil all npt temp 3000.0 3000.0 0.1 iso 0.0 0.0 1.0\n",
    "run             2000\n",
    "unfix           equil\n",
    "\n",
    "# Temperature ramp from 3000K to 5000K\n",
    "timestep        0.001\n",
    "\n",
    "# Write atomic positions every 100 steps\n",
    "dump            1 all custom 100 dump.relax_heat.lammpstrj id type x y z\n",
    "dump_modify     1 sort id\n",
    "            \n",
    "fix             2 all npt temp 3000 5000.0 0.1 iso 0.0 0.0 1.0\n",
    "run             50000\n",
    "unfix           2\n",
    "                       \n",
    "\"\"\")\n",
    "\n",
    "# Running LAMMPS\n",
    "!~/lammps-install/bin/lmp -in melting_test.in\n"
   ]
  },
  {
   "cell_type": "code",
   "execution_count": null,
   "metadata": {},
   "outputs": [],
   "source": [
    "# Read the LAMMPS log file and plot the temperature vs. time\n",
    "import pandas as pd\n",
    "\n",
    "log_file = \"log.lammps\"\n",
    "\n",
    "# Skip to section \"Temperature ramp\"\n",
    "lammps_data = pd.read_csv(log_file, delim_whitespace=True, skiprows=230, on_bad_lines=\"skip\")\n",
    "lammps_data.columns = [\"Step\", \"Temp\", \"Epot\", \"Etot\", \"Press\", \"Volume\"]\n",
    "lammps_data = lammps_data.dropna()\n",
    "lammps_data[\"Temp\"] = pd.to_numeric(lammps_data[\"Temp\"], errors='coerce')\n",
    "lammps_data = lammps_data.dropna()\n",
    "lammps_data[\"Step\"] = pd.to_numeric(lammps_data[\"Step\"], errors='coerce')\n",
    "lammps_data = lammps_data.dropna()\n",
    "lammps_data[\"Time\"] = lammps_data[\"Step\"] * 0.001  # Convert to ps\n",
    "\n",
    "print(lammps_data.head())\n",
    "print(lammps_data[\"Epot\"])\n",
    "\n",
    "plt.figure(figsize=(10, 5))\n",
    "\n",
    "plt.plot(lammps_data[\"Time\"], lammps_data[\"Temp\"], label=\"Epot\")\n",
    "\n",
    "plt.xlabel(\"Time (ps)\")\n",
    "plt.ylabel(\"Temperature (K)\")\n",
    "plt.title(\"Temperature vs. Time during Melting Test\")\n",
    "plt.legend()\n",
    "\n",
    "plt.show()\n"
   ]
  },
  {
   "cell_type": "markdown",
   "metadata": {},
   "source": [
    "### Assignment\n",
    "\n",
    "> Which calculated parameter may help us identify the melting of the materials?\n",
    ">\n",
    "> Select one and create a plot of its dependence on temperature.\n",
    ">\n",
    "> What is the predicted melting point and how does it compare to the experimental value?\n",
    ">\n",
    "> What could be the reason for any discrepancy?"
   ]
  },
  {
   "cell_type": "code",
   "execution_count": null,
   "metadata": {},
   "outputs": [],
   "source": []
  }
 ],
 "metadata": {
  "kernelspec": {
   "display_name": "base",
   "language": "python",
   "name": "python3"
  },
  "language_info": {
   "codemirror_mode": {
    "name": "ipython",
    "version": 3
   },
   "file_extension": ".py",
   "mimetype": "text/x-python",
   "name": "python",
   "nbconvert_exporter": "python",
   "pygments_lexer": "ipython3",
   "version": "3.12.2"
  },
  "toc": {
   "base_numbering": 1,
   "nav_menu": {},
   "number_sections": true,
   "sideBar": true,
   "skip_h1_title": false,
   "title_cell": "Table of Contents",
   "title_sidebar": "Contents",
   "toc_cell": false,
   "toc_position": {},
   "toc_section_display": true,
   "toc_window_display": false
  }
 },
 "nbformat": 4,
 "nbformat_minor": 1
}

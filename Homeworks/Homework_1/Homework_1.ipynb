{
 "cells": [
  {
   "cell_type": "markdown",
   "metadata": {},
   "source": [
    "# Homework Set 1\n",
    "## Problem 1. Estimating a Confusion Matrix for a Superconductivity Model (30 points)\n",
    "\n",
    "### Background\n",
    "A machine learning model has been trained to predict whether materials are superconductive or not. The model takes as input the crystal structure and a coarse estimate of the phonon density of states of a material. The machine learning model uses a crystal-graph convolutional neural network and the model is called BEEnet\n",
    "\n",
    "You are tasked with determining the confusion matrix for this model based on the following known performance metrics:\n",
    "\n",
    "- **Total Number of Materials:** 250,000\n",
    "- **Class Distribution:**\n",
    "  - 2% of the materials are superconductive (positive class).\n",
    "  - 98% of the materials are non-superconductive (negative class).\n",
    "- **Precision:** of BEEnet 90% (0.90)\n",
    "- **Recall:** of BEEnet 70% (0.70)\n",
    "\n",
    "---"
   ]
  },
  {
   "cell_type": "markdown",
   "metadata": {},
   "source": [
    "### Tasks:\n",
    "1. **Define Key Parameters**\n",
    "   - Calculate the total number of **superconducting materials** and **non-superconducting materials** in the dataset.\n",
    "\n",
    "2. **Estimate the Confusion Matrix**\n",
    "   - Use the definitions of precision and recall to estimate the confusion matrix.\n",
    "   - Start with the definitions of precision and recall:\n",
    "     - **Precision:**  \n",
    "       $$\n",
    "       \\text{Precision} = \\frac{\\text{True Positives (TP)}}{\\text{True Positives (TP)} + \\text{False Positives (FP)}}\n",
    "       $$\n",
    "     - **Recall:**  \n",
    "       $$\n",
    "       \\text{Recall} = \\frac{\\text{True Positives (TP)}}{\\text{True Positives (TN)} + \\text{False Negatives (FP)}}\n",
    "       $$\n",
    "   - Estimate the values for:\n",
    "     - **True Positives (TP)**\n",
    "     - **False Positives (FP)**\n",
    "     - **True Negatives (TN)**\n",
    "     - **False Negatives (FN)**\n",
    "\n",
    "3. **Create a plot of the confusion matrix**\n",
    "   - You can use the seaborn package that include a function to plot confusion matrices\n",
    "   - Ensure the total counts in your confusion matrix equal the dataset size (250,000).\n",
    "\n",
    "---\n",
    "---"
   ]
  },
  {
   "cell_type": "markdown",
   "metadata": {},
   "source": [
    "## Problem 2. One-Hot Encoding for Chemical Species in Small Molecules (70 points)\n",
    "\n",
    "### Objective:\n",
    "Learn how to implement one-hot encoding for representing the chemical species in small molecules. This assignment will teach you how categorical data (e.g., atom types) can be transformed into numerical representations suitable for machine learning applications.\n",
    "\n",
    "---"
   ]
  },
  {
   "cell_type": "markdown",
   "metadata": {},
   "source": [
    "### What is One-Hot Encoding?\n",
    "\n",
    "**Definition:**\n",
    "One-hot encoding is a method for converting categorical data (data that can take on a limited number of distinct values) into a numerical format that machine learning models can understand. Each unique category is represented as a binary vector with a length equal to the number of categories. In this vector, one position corresponding to the category is marked as `1`, and all other positions are marked as `0`.\n",
    "\n",
    "---\n",
    "\n",
    "### Example:\n",
    "For the categories `['H', 'C', 'O', 'N']`:\n",
    "- `H` → `[1, 0, 0, 0]`\n",
    "- `C` → `[0, 1, 0, 0]`\n",
    "- `O` → `[0, 0, 1, 0]`\n",
    "- `N` → `[0, 0, 0, 1]`\n",
    "\n",
    "---\n",
    "\n",
    "### Purpose in Machine Learning\n",
    "\n",
    "1. **Handling Categorical Data:**\n",
    "   Machine learning algorithms typically work with numerical data. One-hot encoding converts non-numeric categorical features into a numerical format without introducing any ordinality (unlike label encoding, which can mistakenly imply a ranking among categories).\n",
    "\n",
    "2. **Preventing Misinterpretation:**\n",
    "   For example, in the periodic table, `H` (Hydrogen) and `O` (Oxygen) are not numerically related. Using one-hot encoding ensures that no unintended relationships or biases are introduced.\n",
    "\n",
    "3. **Enabling Compatibility:**\n",
    "   Many machine learning models (e.g., neural networks, decision trees) require consistent input shapes and cannot process raw categorical data directly.\n",
    "\n",
    "4. **Avoiding Bias:**\n",
    "   One-hot encoding ensures all categories are treated equally, preventing the model from assuming that some categories are \"greater than\" others.\n",
    "\n",
    "---\n",
    "\n",
    "### Why Use One-Hot Encoding for Molecules?\n",
    "\n",
    "In cheminformatics and materials science, molecules often consist of categorical data like atom types. Using one-hot encoding:\n",
    "- Ensures that all atom types (e.g., H, C, O, N) are treated as distinct entities.\n",
    "- Prepares molecular data for machine learning models that predict properties such as reactivity, toxicity, or material behavior.\n",
    "- Captures the molecular composition in a structured and interpretable format.\n",
    "\n",
    "---\n",
    "\n",
    "By applying one-hot encoding to molecules, we can convert molecular structures into a numerical representation suitable for machine learning workflows, ensuring compatibility and preventing bias in the data."
   ]
  },
  {
   "cell_type": "markdown",
   "metadata": {},
   "source": [
    "\n",
    "## Problem Description:\n",
    "You are provided with a small dataset of molecules represented by their chemical formulas. Each molecule is described by a list of atoms and their types (e.g., H, C, O, N). Your tasks are:\n",
    "\n",
    "1. **Identify Unique Chemical Species**:\n",
    "   Extract all unique atom types across the dataset.\n",
    "\n",
    "2. **Create One-Hot Encodings**:\n",
    "   Assign a binary vector to each unique atom type.\n",
    "\n",
    "3. **Encode Molecules Using One-Hot Representations**:\n",
    "   Convert the list of atoms for each molecule into their corresponding one-hot encoded matrix.\n",
    "\n",
    "4. **Composition of Molecule**:\n",
    "   - Summarize each molecule by the total count of each species (e.g., [2, 1, 0, 0] for 2 H, 1 C, 0 O, and 0 N).\n",
    "   - Visualize the one-hot encoded data using a heatmap.\n",
    "\n",
    "---\n",
    "\n",
    "## Dataset Example:\n",
    "\n",
    "| Molecule Name | Atoms        |\n",
    "|---------------|--------------|\n",
    "| Molecule 1    | H, H, O      |\n",
    "| Molecule 2    | C, H, H, O   |\n",
    "| Molecule 3    | N, H, H, C, O |\n",
    "\n",
    "---\n",
    "\n",
    "## Tasks:\n",
    "\n",
    "1. Extract the unique species from the dataset (e.g., \\(\\{H, C, O, N\\}\\)).\n",
    "2. Create one-hot encodings for these species:\n",
    "   - Example:\n",
    "     - \\(H: [1, 0, 0, 0]\\)\n",
    "     - \\(C: [0, 1, 0, 0]\\)\n",
    "     - \\(O: [0, 0, 1, 0]\\)\n",
    "     - \\(N: [0, 0, 0, 1]\\)\n",
    "3. Convert each molecule into a one-hot encoded matrix:\n",
    "   - Example for Molecule 1 (\\(H, H, O\\)):\n",
    "     \\[\n",
    "     \\begin{bmatrix}\n",
    "     1 & 0 & 0 & 0 \\\\\n",
    "     1 & 0 & 0 & 0 \\\\\n",
    "     0 & 0 & 1 & 0 \\\\\n",
    "     \\end{bmatrix}\n",
    "     \\]\n",
    "4. (Optional) Summarize each molecule by counting the total occurrences of each species:\n",
    "   - Example:\n",
    "     - Molecule 1: \\([2, 0, 1, 0]\\)\n",
    "     - Molecule 2: \\([2, 1, 1, 0]\\)\n",
    "\n",
    "---\n",
    "\n",
    "## Deliverables:\n",
    "1. Python code that implements the above tasks.\n",
    "2. A report explaining your implementation and showing the results (encoded matrices for each molecule).\n",
    "3. A visualization of the one-hot encoded data.\n",
    "\n",
    "---\n",
    "\n",
    "## Hints:\n",
    "- Use Python’s `set()` to extract unique atom types.\n",
    "- Use libraries like `NumPy` or `pandas` for matrix manipulations.\n",
    "- Use the seaborn library to create a heatmap of the one-hot encoding.\n"
   ]
  },
  {
   "cell_type": "markdown",
   "metadata": {},
   "source": [
    "## Problem 3 f\n",
    "\n"
   ]
  },
  {
   "cell_type": "markdown",
   "metadata": {},
   "source": [
    "## Problem 3: Generalizing One-Hot Encoding for Molecules\n",
    "For Graduate Students or Extra Credit for Undergraduate Students (30 points)\n",
    "\n",
    "### Objective:\n",
    "Write a Python program that generalizes the one-hot encoding process to work for a set of molecules given as XYZ files in a folder called `molecules`.\n",
    "\n",
    "### Instructions:\n",
    "\n",
    "1. **Folder Structure**:\n",
    "   - Use the provided folder named `molecules` containing XYZ files. Each XYZ file represents a molecule with atomic coordinates.\n",
    "\n",
    "2. **Reading XYZ Files**:\n",
    "   - Write a function `read_xyz(file_path)` that reads an XYZ file and returns a list of atoms in the molecule.\n",
    "\n",
    "3. **One-Hot Encoding**:\n",
    "   - Implement a function `one_hot_encode_atoms(atom_list)` that takes a list of atoms and returns a one-hot encoded representation.\n",
    "   - The one-hot encoding should create a binary vector for each atom type present in the dataset. For example, if the dataset contains Hydrogen (H), Carbon (C), and Oxygen (O), the one-hot encoding for H would be `[1, 0, 0]`, for C would be `[0, 1, 0]`, and for O would be `[0, 0, 1]`.\n",
    "\n",
    "4. **Processing All Molecules**:\n",
    "   - Write a function `process_molecules(folder_path)` that processes all XYZ files in the `molecules` folder, applies one-hot encoding to each molecule, and stores the results in a dictionary where the keys are the file names and the values are the one-hot encoded representations.\n",
    "\n",
    "5. **Output**:\n",
    "   - Print and visualize the one-hot encoded representations for each molecule.\n",
    "\n",
    "6. **Testing**:\n",
    "   - Make sure your program is general and reads all files in a given folder. We will test your program on a folder with a different set of molecules.\n",
    "\n",
    "#### Example XYZ File Content:\n"
   ]
  },
  {
   "cell_type": "code",
   "execution_count": null,
   "metadata": {
    "vscode": {
     "languageId": ""
    }
   },
   "outputs": [],
   "source": [
    "5\n",
    "Comment line\n",
    "H 0.0 0.0 0.0  #Atom type  x  y  z\n",
    "C 0.0 0.0 1.0\n",
    "O 0.0 1.0 0.0\n",
    "H 1.0 0.0 0.0\n",
    "C 1.0 1.0 1.0"
   ]
  },
  {
   "cell_type": "markdown",
   "metadata": {},
   "source": [
    "\n",
    "\n",
    "#### Example Output:\n"
   ]
  },
  {
   "cell_type": "code",
   "execution_count": null,
   "metadata": {
    "vscode": {
     "languageId": ""
    }
   },
   "outputs": [],
   "source": [
    "molecule1.xyz: [[1, 0, 0], [0, 1, 0], [0, 0, 1], [1, 0, 0], [0, 1, 0]]\n",
    "molecule2.xyz: [[0, 1, 0], [1, 0, 0], [0, 0, 1], [0, 1, 0]]"
   ]
  },
  {
   "cell_type": "markdown",
   "metadata": {},
   "source": [
    "\n",
    "\n",
    "#### Submission:\n",
    "Submit your Python script file containing the functions and the main program. Ensure that your code is well-documented and follows best practices for readability and maintainability."
   ]
  }
 ],
 "metadata": {
  "language_info": {
   "name": "python"
  }
 },
 "nbformat": 4,
 "nbformat_minor": 2
}

{
 "cells": [
  {
   "cell_type": "markdown",
   "metadata": {},
   "source": [
    "# Description\n",
    "\n",
    "One-hot encoding in machine learning is the conversion of categorical information into a format for machine learning algorithms to improve the accuracy of the predictions. Many algorithms either learn a single weight per feature, or they use distances between samples.\n",
    "\n",
    "This approach creates a new column per unique value in the original category column. To better illustrate the idea, consider the following code with a list of atomic symbols for some generic molecule"
   ]
  },
  {
   "cell_type": "code",
   "execution_count": 1,
   "metadata": {},
   "outputs": [
    {
     "name": "stdout",
     "output_type": "stream",
     "text": [
      "['C' 'H' 'N' 'O']\n",
      "[[0. 1. 0. 0.]\n",
      " [0. 1. 0. 0.]\n",
      " [0. 1. 0. 0.]\n",
      " [1. 0. 0. 0.]\n",
      " [1. 0. 0. 0.]\n",
      " [1. 0. 0. 0.]\n",
      " [0. 0. 1. 0.]\n",
      " [0. 0. 0. 1.]\n",
      " [0. 1. 0. 0.]\n",
      " [0. 1. 0. 0.]]\n"
     ]
    },
    {
     "data": {
      "image/png": "[encoded data removed]",
      "text/plain": [
       "<Figure size 640x480 with 1 Axes>"
      ]
     },
     "metadata": {},
     "output_type": "display_data"
    }
   ],
   "source": [
    "import numpy  as np\n",
    "import matplotlib.pyplot as plt\n",
    "\n",
    "from sklearn.preprocessing import OneHotEncoder\n",
    "\n",
    "atomic_symbol   = np.array( ['H','H','H','C','C','C','N','O','H','H'] )\n",
    "\n",
    "unique_elements = np.unique(atomic_symbol)\n",
    "\n",
    "one_hot_encoder = OneHotEncoder(sparse_output=False)\n",
    "\n",
    "encoded_data    = one_hot_encoder.fit_transform( atomic_symbol.reshape(-1,1) )\n",
    "\n",
    "print(f\"{unique_elements}\\n{encoded_data}\")\n",
    "\n",
    "plt.xticks(ticks=np.arange(start=0, stop=unique_elements.size, step=1), labels=unique_elements)\n",
    "plt.yticks(ticks=np.arange(start=0, stop=atomic_symbol.size,   step=1), labels=atomic_symbol)\n",
    "\n",
    "plt.imshow(encoded_data, cmap='gray')\n",
    "\n",
    "plt.show()"
   ]
  },
  {
   "cell_type": "markdown",
   "metadata": {},
   "source": [
    "Each element has been assigned its own column, and a 1 or 0 is used to indicate whether the element is present or not, but keeping the original order of the elements in the list. With this in mind, your task is to write your own code and generate a one-hot encoding for the set of molecules provided with this notebook. This encoding, however, will be based on all the constituent atoms from all the molecules in the data set. That is, all vectors must have the same number of columns, and all molecules must follow the same encoding format.\n",
    "\n",
    "- Use matplotlib to depict your one-hot encoded molecules.\n",
    "\n",
    "- Do your own one-hot implementation. Using external libraries, e.g. scikit-learn, to do it for you will invalidate your homework.\n",
    "\n",
    "- Avoid using *magic numbers* that will likely work only on your given data set. **Your code will be evaluated using a different set of molecules**, and it must be able to recognize them. Failling to do so will invalidate your homework.\n",
    "\n",
    "- Please return your file using following convention: **surname_name.ipynb**"
   ]
  },
  {
   "cell_type": "markdown",
   "metadata": {},
   "source": [
    "# Implementation\n",
    "\n",
    "> You are **not allowed to use libraries for parallelization nor decorators**. This includes but is not limited to multiprocessing, dask, cpython, ray, dispy, joblib, pandarallel, ipyparallel, etc. NumPy, or Pandas, however, is allowed and encouraged.\n",
    ">\n",
    "> **You will earn extra credits for the speed of your code, organization, implementation, and legibility**"
   ]
  },
  {
   "cell_type": "code",
   "execution_count": null,
   "metadata": {},
   "outputs": [],
   "source": [
    "import numpy as np\n",
    "\n",
    "def main():\n",
    "    # You can use this module for your implementation"
   ]
  },
  {
   "cell_type": "markdown",
   "metadata": {},
   "source": [
    "# Plots"
   ]
  },
  {
   "cell_type": "code",
   "execution_count": null,
   "metadata": {},
   "outputs": [],
   "source": [
    "import matplotlib.pyplot as plt\n"
   ]
  },
  {
   "cell_type": "markdown",
   "metadata": {},
   "source": [
    "# Benchmark result"
   ]
  },
  {
   "cell_type": "code",
   "execution_count": null,
   "metadata": {},
   "outputs": [],
   "source": [
    "%timeit -n 1000 main()"
   ]
  },
  {
   "cell_type": "markdown",
   "metadata": {},
   "source": [
    "# Self evaluation"
   ]
  },
  {
   "cell_type": "code",
   "execution_count": null,
   "metadata": {},
   "outputs": [],
   "source": [
    "# How did you do? Are you satisfied with the result? Did you struggle? What do you need to improve? How can you do better next time?\n",
    "\n",
    "# How was your homework? What can we do to improve it?"
   ]
  }
 ],
 "metadata": {
  "kernelspec": {
   "display_name": "base",
   "language": "python",
   "name": "python3"
  },
  "language_info": {
   "codemirror_mode": {
    "name": "ipython",
    "version": 3
   },
   "file_extension": ".py",
   "mimetype": "text/x-python",
   "name": "python",
   "nbconvert_exporter": "python",
   "pygments_lexer": "ipython3",
   "version": "3.11.5"
  }
 },
 "nbformat": 4,
 "nbformat_minor": 2
}

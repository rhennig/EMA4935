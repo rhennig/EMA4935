{
 "cells": [
  {
   "cell_type": "markdown",
   "metadata": {},
   "source": [
    "# Description\n",
    "\n",
    "As already discussed in class, autoencoders may be used to reduce a feature vector in the so-called **latent space**. The size for this space varies depending on the problem and the desired reduction in dimensionallity. For small datasets and under specific circumstances, we could use a 2D or 3D latent space, with the advantage of being able to see what such space looks like. That is the goal for this homework. We will generate an array with a one-hot encoding for all 118 elements in the periodic table, then, by means of training an autoencoder using a 2D latent space, we will plot the resulting reduced information and see how a neural network encodes the information for all the elements. Moreover, we will compare whether the use of different activation functions leads to different encoding behaviors."
   ]
  },
  {
   "cell_type": "code",
   "execution_count": 1,
   "metadata": {
    "tags": []
   },
   "outputs": [
    {
     "data": {
      "image/png": "[encoded data removed]",
      "text/plain": [
       "<Figure size 800x800 with 1 Axes>"
      ]
     },
     "metadata": {},
     "output_type": "display_data"
    }
   ],
   "source": [
    "import torch\n",
    "import matplotlib.pyplot as plt\n",
    "#\n",
    "### Define the number of elements\n",
    "#\n",
    "elements_in_periodic_table = 118\n",
    "#\n",
    "### Generate the one-hot encoding for all elements\n",
    "#\n",
    "one_hot_elements_in_periodic_table = torch.eye(elements_in_periodic_table, dtype=torch.float)\n",
    "#\n",
    "### Plot the one-hot array\n",
    "#\n",
    "plt.figure( figsize=(8,8) )\n",
    "\n",
    "plt.xticks([])\n",
    "plt.yticks([])\n",
    "\n",
    "plt.imshow(one_hot_elements_in_periodic_table, cmap='gray', aspect='auto')\n",
    "plt.show()"
   ]
  },
  {
   "cell_type": "markdown",
   "metadata": {},
   "source": [
    "Each element in `one_hot_elements_in_periodic_table` has been assigned its own column, and a 1 or 0 is used to indicate whether the element is present or not, respectively. This is the training data. All of it. You do not need to divide it into training and testing.\n",
    "\n",
    "## Your tasks\n",
    "\n",
    "In order to compare the effects of the activation function (if any), **you will train three neural networks**. All with the same architecture but choosing a different activation function for each network. The following list includes six suggestions. Pick three.\n",
    "\n",
    "* [LogSigmoid](https://pytorch.org/docs/stable/generated/torch.nn.LogSigmoid.html#torch.nn.LogSigmoid)\n",
    "* [ReLU](https://pytorch.org/docs/stable/generated/torch.nn.ReLU.html#torch.nn.ReLU)\n",
    "* [Sigmoid](https://pytorch.org/docs/stable/generated/torch.nn.Sigmoid.html#torch.nn.Sigmoid)\n",
    "* [SiLU](https://pytorch.org/docs/stable/generated/torch.nn.SiLU.html#torch.nn.SiLU)\n",
    "* [Tanh](https://pytorch.org/docs/stable/generated/torch.nn.Tanh.html#torch.nn.Tanh)\n",
    "* [Tanhshrink](https://pytorch.org/docs/stable/generated/torch.nn.Tanhshrink.html#torch.nn.Tanhshrink)\n",
    "\n",
    "On the other hand, a 2D latent space is sufficient for comparison. This choice makes plotting simpler. But feel free to use a 3D or larger dimensionallity, keeping in mind that you will need to plot such hyper space.\n",
    "\n",
    "> ### Assignment\n",
    ">\n",
    "> Plot the resulting latent space for your three autoencoders and dicuss your findings.\n",
    "\n",
    "## Considerations\n",
    "\n",
    "- Use matplotlib to show and compare your three latent spaces.\n",
    "- Please implement your three neural networks in this notebook instead of using an external .py file.\n",
    "- Remember that you must optimize the learning rate, weight decay, and number of epochs for each of your networks."
   ]
  },
  {
   "cell_type": "markdown",
   "metadata": {},
   "source": [
    "# Your implementation\n",
    "\n",
    "> **You will earn extra credits for the organization, implementation, and legibility of your code**"
   ]
  },
  {
   "cell_type": "code",
   "execution_count": null,
   "metadata": {},
   "outputs": [],
   "source": []
  }
 ],
 "metadata": {
  "kernelspec": {
   "display_name": "Python 3 (ipykernel)",
   "language": "python",
   "name": "python3"
  },
  "language_info": {
   "codemirror_mode": {
    "name": "ipython",
    "version": 3
   },
   "file_extension": ".py",
   "mimetype": "text/x-python",
   "name": "python",
   "nbconvert_exporter": "python",
   "pygments_lexer": "ipython3",
   "version": "3.11.5"
  }
 },
 "nbformat": 4,
 "nbformat_minor": 4
}

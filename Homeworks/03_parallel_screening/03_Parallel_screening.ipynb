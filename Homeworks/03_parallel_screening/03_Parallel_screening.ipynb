{
 "cells": [
  {
   "cell_type": "markdown",
   "id": "2e0798aa-4146-4d38-85b9-ad1c47982ba7",
   "metadata": {},
   "source": [
    "# Description\n",
    "\n",
    "High-throughput workflows often deal with large datasets that serve different purposes, such as screening for materials of interest, searching for compounds that meet certain criteria, etc. Due to the size of these data sets and because each system typically is analized independent from the rest, we use parallelization methods to distribute tasks. As a parctical example, consider the [QM09 dataset](https://www.nature.com/articles/sdata201422) by R. Ramakrishnan, P. O. Dral, M. Rupp, and O. A. von Lilienfeld *Sci. Data*, **1**, 140022 (2014). We already discussed the data reported therein for Notebook 16_Graph_attention_networks. Briefly, the authors computed different properties for 133,885 small molecules. The geometries are included in $n$.xyz files, where $1 \\leq n \\leq 133\\,885\\, \\in \\, \\mathbb{I}$. For ease of implementation, we will consider a random subset of 1,000 systems, sampled with the following function that produces 1,000 random indexes for $n$,"
   ]
  },
  {
   "cell_type": "code",
   "execution_count": 15,
   "id": "76d2fb51-145d-48d6-af0b-a3246c124032",
   "metadata": {
    "tags": []
   },
   "outputs": [
    {
     "name": "stdout",
     "output_type": "stream",
     "text": [
      "random 1000 indexes contain 45199, 27763, 27036, 81765, 1611 ... 111502, 99554, 3803, 45888, 13115\n"
     ]
    }
   ],
   "source": [
    "import random\n",
    "\n",
    "sampling_size = 1_000\n",
    "\n",
    "subset_idx    = random.sample(range(1, 133_885), sampling_size)\n",
    "\n",
    "print(f'random {sampling_size} indexes contain {subset_idx[:5]} ... {subset_idx[-5:]}'.replace('[', '').replace(']', ''))"
   ]
  },
  {
   "cell_type": "markdown",
   "id": "475009ff-9579-4776-ba66-3689da78fdab",
   "metadata": {},
   "source": [
    "As reported by the authors, each [.xyz file](https://springernature.figshare.com/articles/dataset/Data_for_6095_constitutional_isomers_of_C7H10O2/1057646?backTo=/collections/Quantum_chemistry_structures_and_properties_of_134_kilo_molecules/978904) is formatted as follows:\n",
    "\n",
    "|Line       |Content|\n",
    "|---|---|\n",
    "|1          |Number of atoms na|\n",
    "|2          |Properties 1-17 (see below)|\n",
    "|3,...,na+2 |Element type, coordinate (x,y,z) (Angstrom), and Mulliken partial charge (e) of atom|\n",
    "|na+3       |Frequencies (3na-5 or 3na-6)|\n",
    "|na+4       |SMILES from GDB9 and for relaxed geometry|\n",
    "|na+5       |InChI for GDB9 and for relaxed geometry|\n",
    "\n",
    "The properties stored in the second line of each file:\n",
    "\n",
    "|Index  |Property  |Unit         |Description|\n",
    "|---|---|---|---|\n",
    "| 0  |tag       |-            |\"gdb9\"; string constant to ease extraction via grep|\n",
    "| 1  |index     |-            |Consecutive, 1-based integer identifier of molecule|\n",
    "| 2  |A         |GHz          |Rotational constant A|\n",
    "| 3  |B         |GHz          |Rotational constant B|\n",
    "| 4  |C         |GHz          |Rotational constant C|\n",
    "| 5  |mu        |Debye        |Dipole moment|\n",
    "| 6  |alpha     |Bohr^3       |Isotropic polarizability|\n",
    "| 7  |HOMO      |Hartree      |Energy of Highest occupied molecular orbital (HOMO)|\n",
    "| 8  |LUMO      |Hartree      |Energy of Lowest occupied molecular orbital (LUMO)|\n",
    "| 9  |gap       |Hartree      |Gap, difference between LUMO and HOMO|\n",
    "|10  |r2        |Bohr^2       |Electronic spatial extent|\n",
    "|11  |zpve      |Hartree      |Zero point vibrational energy|\n",
    "|12  |U0        |Hartree      |Internal energy at 0 K|\n",
    "|13  |U         |Hartree      |Internal energy at 298.15 K|\n",
    "|14  |H         |Hartree      |Enthalpy at 298.15 K|\n",
    "|15  |G         |Hartree      |Free energy at 298.15 K|\n",
    "|16  |Cv        |cal/(mol K)  |Heat capacity at 298.15 K|"
   ]
  },
  {
   "cell_type": "markdown",
   "id": "5573e1f3-72aa-4247-b3b5-3d8c611e4970",
   "metadata": {},
   "source": [
    "## Your task\n",
    "\n",
    "Download the QM09 dataset and use your choice of parallel computing to extract $H$, the Enthalpy at 298.15 K, for the subset of molecules that correspond to the random indexes in `subset_idx`. Collect all the indexes and $H$ values in a `dataframe`.\n",
    "\n",
    "> ### Assignment\n",
    ">\n",
    "> Use the `with pd.option_context('display.max_rows', None,): display(dataframe)` to show your data. Note that the code snipet assumes `import pandas as pd`, please change it if necessary.\n",
    ">\n",
    "> Use a histogram to report the distribution for the $H$ values you extracted.\n",
    "\n",
    "## Considerations\n",
    "\n",
    "Don't open all data files before deploying the parallel processes. Avoid unnecessary data load by handling the IO operations in each parallel task."
   ]
  },
  {
   "cell_type": "markdown",
   "id": "d3a0e3ce-2fdc-4f51-a012-75cd371acff6",
   "metadata": {},
   "source": [
    "# Your implementation\n",
    "\n",
    "> **You will earn extra credits for the organization, implementation, and legibility of your code**"
   ]
  },
  {
   "cell_type": "code",
   "execution_count": null,
   "id": "86a0badf-f375-4936-8c98-1fc759dfe1e5",
   "metadata": {},
   "outputs": [],
   "source": []
  }
 ],
 "metadata": {
  "kernelspec": {
   "display_name": "Python 3 (ipykernel)",
   "language": "python",
   "name": "python3"
  },
  "language_info": {
   "codemirror_mode": {
    "name": "ipython",
    "version": 3
   },
   "file_extension": ".py",
   "mimetype": "text/x-python",
   "name": "python",
   "nbconvert_exporter": "python",
   "pygments_lexer": "ipython3",
   "version": "3.11.4"
  }
 },
 "nbformat": 4,
 "nbformat_minor": 5
}
